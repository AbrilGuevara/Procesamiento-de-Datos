{
 "cells": [
  {
   "cell_type": "markdown",
   "id": "3d039377",
   "metadata": {},
   "source": [
    "## Procesamiento de Datos"
   ]
  },
  {
   "cell_type": "code",
   "execution_count": 2,
   "id": "9be4a9e3",
   "metadata": {},
   "outputs": [],
   "source": [
    "import requests\n",
    "from bs4 import BeautifulSoup\n",
    "import nltk\n",
    "from nltk.stem import WordNetLemmatizer \n",
    "import codecs\n",
    "import pandas as pd"
   ]
  },
  {
   "cell_type": "code",
   "execution_count": 3,
   "id": "60f56603",
   "metadata": {},
   "outputs": [
    {
     "data": {
      "text/html": [
       "<div>\n",
       "<style scoped>\n",
       "    .dataframe tbody tr th:only-of-type {\n",
       "        vertical-align: middle;\n",
       "    }\n",
       "\n",
       "    .dataframe tbody tr th {\n",
       "        vertical-align: top;\n",
       "    }\n",
       "\n",
       "    .dataframe thead th {\n",
       "        text-align: right;\n",
       "    }\n",
       "</style>\n",
       "<table border=\"1\" class=\"dataframe\">\n",
       "  <thead>\n",
       "    <tr style=\"text-align: right;\">\n",
       "      <th></th>\n",
       "      <th>Text</th>\n",
       "      <th>Clasificación</th>\n",
       "    </tr>\n",
       "  </thead>\n",
       "  <tbody>\n",
       "    <tr>\n",
       "      <th>0</th>\n",
       "      <td>Ex Wife Threatening SuicideRecently I left my ...</td>\n",
       "      <td>Suicidio</td>\n",
       "    </tr>\n",
       "    <tr>\n",
       "      <th>1</th>\n",
       "      <td>i need helpjust help me im crying so hard</td>\n",
       "      <td>Suicidio</td>\n",
       "    </tr>\n",
       "    <tr>\n",
       "      <th>2</th>\n",
       "      <td>Honetly idkI dont know what im even doing here...</td>\n",
       "      <td>Suicidio</td>\n",
       "    </tr>\n",
       "    <tr>\n",
       "      <th>3</th>\n",
       "      <td>My life is over at 20 years oldHello all. I am...</td>\n",
       "      <td>Suicidio</td>\n",
       "    </tr>\n",
       "    <tr>\n",
       "      <th>4</th>\n",
       "      <td>Can you imagine getting old? Me neither.Wrinkl...</td>\n",
       "      <td>Suicidio</td>\n",
       "    </tr>\n",
       "  </tbody>\n",
       "</table>\n",
       "</div>"
      ],
      "text/plain": [
       "                                                Text Clasificación\n",
       "0  Ex Wife Threatening SuicideRecently I left my ...      Suicidio\n",
       "1          i need helpjust help me im crying so hard      Suicidio\n",
       "2  Honetly idkI dont know what im even doing here...      Suicidio\n",
       "3  My life is over at 20 years oldHello all. I am...      Suicidio\n",
       "4  Can you imagine getting old? Me neither.Wrinkl...      Suicidio"
      ]
     },
     "execution_count": 3,
     "metadata": {},
     "output_type": "execute_result"
    }
   ],
   "source": [
    "import pandas as pd\n",
    "df = pd.read_csv(\"BDSuicidios3.csv\")\n",
    "df.head()"
   ]
  },
  {
   "cell_type": "code",
   "execution_count": 3,
   "id": "b81b7702",
   "metadata": {},
   "outputs": [
    {
     "data": {
      "text/plain": [
       "(2000, 2)"
      ]
     },
     "execution_count": 3,
     "metadata": {},
     "output_type": "execute_result"
    }
   ],
   "source": [
    "df.shape"
   ]
  },
  {
   "cell_type": "code",
   "execution_count": 5,
   "id": "4cc1749b",
   "metadata": {},
   "outputs": [
    {
     "data": {
      "text/html": [
       "<div>\n",
       "<style scoped>\n",
       "    .dataframe tbody tr th:only-of-type {\n",
       "        vertical-align: middle;\n",
       "    }\n",
       "\n",
       "    .dataframe tbody tr th {\n",
       "        vertical-align: top;\n",
       "    }\n",
       "\n",
       "    .dataframe thead th {\n",
       "        text-align: right;\n",
       "    }\n",
       "</style>\n",
       "<table border=\"1\" class=\"dataframe\">\n",
       "  <thead>\n",
       "    <tr style=\"text-align: right;\">\n",
       "      <th></th>\n",
       "      <th>Text</th>\n",
       "      <th>Clasificación</th>\n",
       "      <th>Cleaned Posts</th>\n",
       "    </tr>\n",
       "  </thead>\n",
       "  <tbody>\n",
       "    <tr>\n",
       "      <th>0</th>\n",
       "      <td>Ex Wife Threatening SuicideRecently I left my ...</td>\n",
       "      <td>Suicidio</td>\n",
       "      <td>Ex Wife Threatening SuicideRecently I left my ...</td>\n",
       "    </tr>\n",
       "    <tr>\n",
       "      <th>1</th>\n",
       "      <td>i need helpjust help me im crying so hard</td>\n",
       "      <td>Suicidio</td>\n",
       "      <td>i need helpjust help me im crying so hard</td>\n",
       "    </tr>\n",
       "    <tr>\n",
       "      <th>2</th>\n",
       "      <td>Honetly idkI dont know what im even doing here...</td>\n",
       "      <td>Suicidio</td>\n",
       "      <td>Honetly idkI dont know what im even doing here...</td>\n",
       "    </tr>\n",
       "    <tr>\n",
       "      <th>3</th>\n",
       "      <td>My life is over at 20 years oldHello all. I am...</td>\n",
       "      <td>Suicidio</td>\n",
       "      <td>My life is over at years oldHello all I am a y...</td>\n",
       "    </tr>\n",
       "    <tr>\n",
       "      <th>4</th>\n",
       "      <td>Can you imagine getting old? Me neither.Wrinkl...</td>\n",
       "      <td>Suicidio</td>\n",
       "      <td>Can you imagine getting old Me neither Wrinkle...</td>\n",
       "    </tr>\n",
       "  </tbody>\n",
       "</table>\n",
       "</div>"
      ],
      "text/plain": [
       "                                                Text Clasificación  \\\n",
       "0  Ex Wife Threatening SuicideRecently I left my ...      Suicidio   \n",
       "1          i need helpjust help me im crying so hard      Suicidio   \n",
       "2  Honetly idkI dont know what im even doing here...      Suicidio   \n",
       "3  My life is over at 20 years oldHello all. I am...      Suicidio   \n",
       "4  Can you imagine getting old? Me neither.Wrinkl...      Suicidio   \n",
       "\n",
       "                                       Cleaned Posts  \n",
       "0  Ex Wife Threatening SuicideRecently I left my ...  \n",
       "1          i need helpjust help me im crying so hard  \n",
       "2  Honetly idkI dont know what im even doing here...  \n",
       "3  My life is over at years oldHello all I am a y...  \n",
       "4  Can you imagine getting old Me neither Wrinkle...  "
      ]
     },
     "execution_count": 5,
     "metadata": {},
     "output_type": "execute_result"
    }
   ],
   "source": [
    "import re\n",
    "\n",
    "# Define a function to clean the text\n",
    "def clean(text):\n",
    "    # Removes all special characters and numericals leaving the alphabets\n",
    "    text = re.sub('[^A-Za-z]+', ' ', text) \n",
    "    return text\n",
    "\n",
    "# Cleaning the text in the review column\n",
    "df['Cleaned Posts'] = df['Text'].apply(clean)\n",
    "df.head()"
   ]
  },
  {
   "cell_type": "code",
   "execution_count": 6,
   "id": "3048f6f9",
   "metadata": {},
   "outputs": [
    {
     "name": "stderr",
     "output_type": "stream",
     "text": [
      "[nltk_data] Downloading package punkt to\n",
      "[nltk_data]     C:\\Users\\gueva\\AppData\\Roaming\\nltk_data...\n",
      "[nltk_data]   Package punkt is already up-to-date!\n",
      "[nltk_data] Downloading package stopwords to\n",
      "[nltk_data]     C:\\Users\\gueva\\AppData\\Roaming\\nltk_data...\n",
      "[nltk_data]   Package stopwords is already up-to-date!\n",
      "[nltk_data] Downloading package wordnet to\n",
      "[nltk_data]     C:\\Users\\gueva\\AppData\\Roaming\\nltk_data...\n",
      "[nltk_data]   Package wordnet is already up-to-date!\n",
      "[nltk_data] Downloading package averaged_perceptron_tagger to\n",
      "[nltk_data]     C:\\Users\\gueva\\AppData\\Roaming\\nltk_data...\n",
      "[nltk_data]   Package averaged_perceptron_tagger is already up-to-\n",
      "[nltk_data]       date!\n"
     ]
    },
    {
     "data": {
      "text/html": [
       "<div>\n",
       "<style scoped>\n",
       "    .dataframe tbody tr th:only-of-type {\n",
       "        vertical-align: middle;\n",
       "    }\n",
       "\n",
       "    .dataframe tbody tr th {\n",
       "        vertical-align: top;\n",
       "    }\n",
       "\n",
       "    .dataframe thead th {\n",
       "        text-align: right;\n",
       "    }\n",
       "</style>\n",
       "<table border=\"1\" class=\"dataframe\">\n",
       "  <thead>\n",
       "    <tr style=\"text-align: right;\">\n",
       "      <th></th>\n",
       "      <th>Text</th>\n",
       "      <th>Clasificación</th>\n",
       "      <th>Cleaned Posts</th>\n",
       "      <th>POS tagged</th>\n",
       "    </tr>\n",
       "  </thead>\n",
       "  <tbody>\n",
       "    <tr>\n",
       "      <th>0</th>\n",
       "      <td>Ex Wife Threatening SuicideRecently I left my ...</td>\n",
       "      <td>Suicidio</td>\n",
       "      <td>Ex Wife Threatening SuicideRecently I left my ...</td>\n",
       "      <td>[(Ex, n), (Wife, n), (Threatening, n), (Suicid...</td>\n",
       "    </tr>\n",
       "    <tr>\n",
       "      <th>1</th>\n",
       "      <td>i need helpjust help me im crying so hard</td>\n",
       "      <td>Suicidio</td>\n",
       "      <td>i need helpjust help me im crying so hard</td>\n",
       "      <td>[(need, v), (helpjust, n), (help, v), (im, v),...</td>\n",
       "    </tr>\n",
       "    <tr>\n",
       "      <th>2</th>\n",
       "      <td>Honetly idkI dont know what im even doing here...</td>\n",
       "      <td>Suicidio</td>\n",
       "      <td>Honetly idkI dont know what im even doing here...</td>\n",
       "      <td>[(Honetly, r), (idkI, a), (dont, n), (know, v)...</td>\n",
       "    </tr>\n",
       "    <tr>\n",
       "      <th>3</th>\n",
       "      <td>My life is over at 20 years oldHello all. I am...</td>\n",
       "      <td>Suicidio</td>\n",
       "      <td>My life is over at years oldHello all I am a y...</td>\n",
       "      <td>[(life, n), (years, n), (oldHello, None), (yea...</td>\n",
       "    </tr>\n",
       "    <tr>\n",
       "      <th>4</th>\n",
       "      <td>Can you imagine getting old? Me neither.Wrinkl...</td>\n",
       "      <td>Suicidio</td>\n",
       "      <td>Can you imagine getting old Me neither Wrinkle...</td>\n",
       "      <td>[(imagine, v), (getting, v), (old, a), (neithe...</td>\n",
       "    </tr>\n",
       "  </tbody>\n",
       "</table>\n",
       "</div>"
      ],
      "text/plain": [
       "                                                Text Clasificación  \\\n",
       "0  Ex Wife Threatening SuicideRecently I left my ...      Suicidio   \n",
       "1          i need helpjust help me im crying so hard      Suicidio   \n",
       "2  Honetly idkI dont know what im even doing here...      Suicidio   \n",
       "3  My life is over at 20 years oldHello all. I am...      Suicidio   \n",
       "4  Can you imagine getting old? Me neither.Wrinkl...      Suicidio   \n",
       "\n",
       "                                       Cleaned Posts  \\\n",
       "0  Ex Wife Threatening SuicideRecently I left my ...   \n",
       "1          i need helpjust help me im crying so hard   \n",
       "2  Honetly idkI dont know what im even doing here...   \n",
       "3  My life is over at years oldHello all I am a y...   \n",
       "4  Can you imagine getting old Me neither Wrinkle...   \n",
       "\n",
       "                                          POS tagged  \n",
       "0  [(Ex, n), (Wife, n), (Threatening, n), (Suicid...  \n",
       "1  [(need, v), (helpjust, n), (help, v), (im, v),...  \n",
       "2  [(Honetly, r), (idkI, a), (dont, n), (know, v)...  \n",
       "3  [(life, n), (years, n), (oldHello, None), (yea...  \n",
       "4  [(imagine, v), (getting, v), (old, a), (neithe...  "
      ]
     },
     "execution_count": 6,
     "metadata": {},
     "output_type": "execute_result"
    }
   ],
   "source": [
    "import nltk\n",
    "nltk.download('punkt')\n",
    "from nltk.tokenize import word_tokenize\n",
    "from nltk import pos_tag\n",
    "nltk.download('stopwords')\n",
    "from nltk.corpus import stopwords\n",
    "nltk.download('wordnet')\n",
    "from nltk.corpus import wordnet\n",
    "nltk.download('averaged_perceptron_tagger')\n",
    "\n",
    "# POS tagger dictionary\n",
    "pos_dict = {'J':wordnet.ADJ, 'V':wordnet.VERB, 'N':wordnet.NOUN, 'R':wordnet.ADV}\n",
    "\n",
    "def token_stop_pos(Text):\n",
    "    tags = pos_tag(word_tokenize(Text))\n",
    "    newlist = []\n",
    "    for word, tag in tags:\n",
    "        if word.lower() not in set(stopwords.words('english')):\n",
    "            newlist.append(tuple([word, pos_dict.get(tag[0])]))\n",
    "    return newlist\n",
    "\n",
    "df['POS tagged'] = df['Cleaned Posts'].apply(token_stop_pos)\n",
    "df.head()"
   ]
  },
  {
   "cell_type": "code",
   "execution_count": 7,
   "id": "593f5d91",
   "metadata": {},
   "outputs": [
    {
     "data": {
      "text/html": [
       "<div>\n",
       "<style scoped>\n",
       "    .dataframe tbody tr th:only-of-type {\n",
       "        vertical-align: middle;\n",
       "    }\n",
       "\n",
       "    .dataframe tbody tr th {\n",
       "        vertical-align: top;\n",
       "    }\n",
       "\n",
       "    .dataframe thead th {\n",
       "        text-align: right;\n",
       "    }\n",
       "</style>\n",
       "<table border=\"1\" class=\"dataframe\">\n",
       "  <thead>\n",
       "    <tr style=\"text-align: right;\">\n",
       "      <th></th>\n",
       "      <th>Text</th>\n",
       "      <th>Clasificación</th>\n",
       "      <th>Cleaned Posts</th>\n",
       "      <th>POS tagged</th>\n",
       "      <th>Lemma</th>\n",
       "    </tr>\n",
       "  </thead>\n",
       "  <tbody>\n",
       "    <tr>\n",
       "      <th>0</th>\n",
       "      <td>Ex Wife Threatening SuicideRecently I left my ...</td>\n",
       "      <td>Suicidio</td>\n",
       "      <td>Ex Wife Threatening SuicideRecently I left my ...</td>\n",
       "      <td>[(Ex, n), (Wife, n), (Threatening, n), (Suicid...</td>\n",
       "      <td>Ex Wife Threatening SuicideRecently leave wi...</td>\n",
       "    </tr>\n",
       "    <tr>\n",
       "      <th>1</th>\n",
       "      <td>i need helpjust help me im crying so hard</td>\n",
       "      <td>Suicidio</td>\n",
       "      <td>i need helpjust help me im crying so hard</td>\n",
       "      <td>[(need, v), (helpjust, n), (help, v), (im, v),...</td>\n",
       "      <td>need helpjust help im cry hard</td>\n",
       "    </tr>\n",
       "    <tr>\n",
       "      <th>2</th>\n",
       "      <td>Honetly idkI dont know what im even doing here...</td>\n",
       "      <td>Suicidio</td>\n",
       "      <td>Honetly idkI dont know what im even doing here...</td>\n",
       "      <td>[(Honetly, r), (idkI, a), (dont, n), (know, v)...</td>\n",
       "      <td>Honetly idkI dont know im even feel like not...</td>\n",
       "    </tr>\n",
       "    <tr>\n",
       "      <th>3</th>\n",
       "      <td>My life is over at 20 years oldHello all. I am...</td>\n",
       "      <td>Suicidio</td>\n",
       "      <td>My life is over at years oldHello all I am a y...</td>\n",
       "      <td>[(life, n), (years, n), (oldHello, None), (yea...</td>\n",
       "      <td>life year oldHello year old balding male hai...</td>\n",
       "    </tr>\n",
       "    <tr>\n",
       "      <th>4</th>\n",
       "      <td>Can you imagine getting old? Me neither.Wrinkl...</td>\n",
       "      <td>Suicidio</td>\n",
       "      <td>Can you imagine getting old Me neither Wrinkle...</td>\n",
       "      <td>[(imagine, v), (getting, v), (old, a), (neithe...</td>\n",
       "      <td>imagine get old neither Wrinkles weight gain...</td>\n",
       "    </tr>\n",
       "  </tbody>\n",
       "</table>\n",
       "</div>"
      ],
      "text/plain": [
       "                                                Text Clasificación  \\\n",
       "0  Ex Wife Threatening SuicideRecently I left my ...      Suicidio   \n",
       "1          i need helpjust help me im crying so hard      Suicidio   \n",
       "2  Honetly idkI dont know what im even doing here...      Suicidio   \n",
       "3  My life is over at 20 years oldHello all. I am...      Suicidio   \n",
       "4  Can you imagine getting old? Me neither.Wrinkl...      Suicidio   \n",
       "\n",
       "                                       Cleaned Posts  \\\n",
       "0  Ex Wife Threatening SuicideRecently I left my ...   \n",
       "1          i need helpjust help me im crying so hard   \n",
       "2  Honetly idkI dont know what im even doing here...   \n",
       "3  My life is over at years oldHello all I am a y...   \n",
       "4  Can you imagine getting old Me neither Wrinkle...   \n",
       "\n",
       "                                          POS tagged  \\\n",
       "0  [(Ex, n), (Wife, n), (Threatening, n), (Suicid...   \n",
       "1  [(need, v), (helpjust, n), (help, v), (im, v),...   \n",
       "2  [(Honetly, r), (idkI, a), (dont, n), (know, v)...   \n",
       "3  [(life, n), (years, n), (oldHello, None), (yea...   \n",
       "4  [(imagine, v), (getting, v), (old, a), (neithe...   \n",
       "\n",
       "                                               Lemma  \n",
       "0    Ex Wife Threatening SuicideRecently leave wi...  \n",
       "1                     need helpjust help im cry hard  \n",
       "2    Honetly idkI dont know im even feel like not...  \n",
       "3    life year oldHello year old balding male hai...  \n",
       "4    imagine get old neither Wrinkles weight gain...  "
      ]
     },
     "execution_count": 7,
     "metadata": {},
     "output_type": "execute_result"
    }
   ],
   "source": [
    "wordnet_lemmatizer = WordNetLemmatizer()\n",
    "\n",
    "def lemmatize(pos_data):\n",
    "    lemma_rew = \" \"\n",
    "    for word, pos in pos_data:\n",
    "        if not pos: \n",
    "            lemma = word\n",
    "            lemma_rew = lemma_rew + \" \" + lemma\n",
    "        else:  \n",
    "            lemma = wordnet_lemmatizer.lemmatize(word, pos=pos)\n",
    "            lemma_rew = lemma_rew + \" \" + lemma\n",
    "    return lemma_rew\n",
    "    \n",
    "df['Lemma'] = df['POS tagged'].apply(lemmatize)\n",
    "df.head()"
   ]
  },
  {
   "cell_type": "code",
   "execution_count": 8,
   "id": "9ff55dc2",
   "metadata": {},
   "outputs": [
    {
     "data": {
      "text/html": [
       "<div>\n",
       "<style scoped>\n",
       "    .dataframe tbody tr th:only-of-type {\n",
       "        vertical-align: middle;\n",
       "    }\n",
       "\n",
       "    .dataframe tbody tr th {\n",
       "        vertical-align: top;\n",
       "    }\n",
       "\n",
       "    .dataframe thead th {\n",
       "        text-align: right;\n",
       "    }\n",
       "</style>\n",
       "<table border=\"1\" class=\"dataframe\">\n",
       "  <thead>\n",
       "    <tr style=\"text-align: right;\">\n",
       "      <th></th>\n",
       "      <th>Text</th>\n",
       "      <th>Lemma</th>\n",
       "    </tr>\n",
       "  </thead>\n",
       "  <tbody>\n",
       "    <tr>\n",
       "      <th>0</th>\n",
       "      <td>Ex Wife Threatening SuicideRecently I left my ...</td>\n",
       "      <td>Ex Wife Threatening SuicideRecently leave wi...</td>\n",
       "    </tr>\n",
       "    <tr>\n",
       "      <th>1</th>\n",
       "      <td>i need helpjust help me im crying so hard</td>\n",
       "      <td>need helpjust help im cry hard</td>\n",
       "    </tr>\n",
       "    <tr>\n",
       "      <th>2</th>\n",
       "      <td>Honetly idkI dont know what im even doing here...</td>\n",
       "      <td>Honetly idkI dont know im even feel like not...</td>\n",
       "    </tr>\n",
       "    <tr>\n",
       "      <th>3</th>\n",
       "      <td>My life is over at 20 years oldHello all. I am...</td>\n",
       "      <td>life year oldHello year old balding male hai...</td>\n",
       "    </tr>\n",
       "    <tr>\n",
       "      <th>4</th>\n",
       "      <td>Can you imagine getting old? Me neither.Wrinkl...</td>\n",
       "      <td>imagine get old neither Wrinkles weight gain...</td>\n",
       "    </tr>\n",
       "    <tr>\n",
       "      <th>...</th>\n",
       "      <td>...</td>\n",
       "      <td>...</td>\n",
       "    </tr>\n",
       "    <tr>\n",
       "      <th>1995</th>\n",
       "      <td>Do you ever just want someone to talk to and o...</td>\n",
       "      <td>ever want someone talk open person appear</td>\n",
       "    </tr>\n",
       "    <tr>\n",
       "      <th>1996</th>\n",
       "      <td>Why is there a health bar in the sky? Oh dear....</td>\n",
       "      <td>health bar sky Oh dear</td>\n",
       "    </tr>\n",
       "    <tr>\n",
       "      <th>1997</th>\n",
       "      <td>Ill make a meme about the top comment. comment...</td>\n",
       "      <td>Ill make meme top comment comment away</td>\n",
       "    </tr>\n",
       "    <tr>\n",
       "      <th>1998</th>\n",
       "      <td>What are some fun Christmas gift ideas for 16-...</td>\n",
       "      <td>fun Christmas gift idea year old Maybe popul...</td>\n",
       "    </tr>\n",
       "    <tr>\n",
       "      <th>1999</th>\n",
       "      <td>800+ steam trading cards and need help collect...</td>\n",
       "      <td>steam trading card need help collect Hey guy...</td>\n",
       "    </tr>\n",
       "  </tbody>\n",
       "</table>\n",
       "<p>2000 rows × 2 columns</p>\n",
       "</div>"
      ],
      "text/plain": [
       "                                                   Text  \\\n",
       "0     Ex Wife Threatening SuicideRecently I left my ...   \n",
       "1             i need helpjust help me im crying so hard   \n",
       "2     Honetly idkI dont know what im even doing here...   \n",
       "3     My life is over at 20 years oldHello all. I am...   \n",
       "4     Can you imagine getting old? Me neither.Wrinkl...   \n",
       "...                                                 ...   \n",
       "1995  Do you ever just want someone to talk to and o...   \n",
       "1996  Why is there a health bar in the sky? Oh dear....   \n",
       "1997  Ill make a meme about the top comment. comment...   \n",
       "1998  What are some fun Christmas gift ideas for 16-...   \n",
       "1999  800+ steam trading cards and need help collect...   \n",
       "\n",
       "                                                  Lemma  \n",
       "0       Ex Wife Threatening SuicideRecently leave wi...  \n",
       "1                        need helpjust help im cry hard  \n",
       "2       Honetly idkI dont know im even feel like not...  \n",
       "3       life year oldHello year old balding male hai...  \n",
       "4       imagine get old neither Wrinkles weight gain...  \n",
       "...                                                 ...  \n",
       "1995          ever want someone talk open person appear  \n",
       "1996                             health bar sky Oh dear  \n",
       "1997             Ill make meme top comment comment away  \n",
       "1998    fun Christmas gift idea year old Maybe popul...  \n",
       "1999    steam trading card need help collect Hey guy...  \n",
       "\n",
       "[2000 rows x 2 columns]"
      ]
     },
     "execution_count": 8,
     "metadata": {},
     "output_type": "execute_result"
    }
   ],
   "source": [
    "df[['Text', 'Lemma']]"
   ]
  },
  {
   "cell_type": "markdown",
   "id": "bab450dc",
   "metadata": {},
   "source": [
    "## Análisis de sentimiento"
   ]
  },
  {
   "cell_type": "markdown",
   "id": "7be2d419",
   "metadata": {},
   "source": [
    "### Análisis de sentimiento usando TextBlob"
   ]
  },
  {
   "cell_type": "code",
   "execution_count": 9,
   "id": "a81e5f88",
   "metadata": {},
   "outputs": [
    {
     "name": "stdout",
     "output_type": "stream",
     "text": [
      "Requirement already satisfied: textblob in c:\\users\\gueva\\anaconda3\\lib\\site-packages (0.17.1)\n",
      "Requirement already satisfied: nltk>=3.1 in c:\\users\\gueva\\anaconda3\\lib\\site-packages (from textblob) (3.6.5)\n",
      "Requirement already satisfied: click in c:\\users\\gueva\\anaconda3\\lib\\site-packages (from nltk>=3.1->textblob) (8.0.3)\n",
      "Requirement already satisfied: joblib in c:\\users\\gueva\\anaconda3\\lib\\site-packages (from nltk>=3.1->textblob) (1.1.0)\n",
      "Requirement already satisfied: regex>=2021.8.3 in c:\\users\\gueva\\anaconda3\\lib\\site-packages (from nltk>=3.1->textblob) (2021.8.3)\n",
      "Requirement already satisfied: tqdm in c:\\users\\gueva\\anaconda3\\lib\\site-packages (from nltk>=3.1->textblob) (4.62.3)\n",
      "Requirement already satisfied: colorama in c:\\users\\gueva\\anaconda3\\lib\\site-packages (from click->nltk>=3.1->textblob) (0.4.4)\n"
     ]
    }
   ],
   "source": [
    "!pip install textblob\n",
    "from textblob import TextBlob\n",
    "\n",
    "# function to calculate subjectivity \n",
    "def getSubjectivity(review):\n",
    "    return TextBlob(review).sentiment.subjectivity\n",
    "\n",
    "# function to calculate polarity\n",
    "def getPolarity(review):\n",
    "    return TextBlob(review).sentiment.polarity\n",
    "\n",
    "# function to analyze the reviews\n",
    "def analysis(score):\n",
    "    if score < 0:\n",
    "        return 'Negative'\n",
    "    elif score == 0:\n",
    "        return 'Neutral'\n",
    "    else:\n",
    "        return 'Positive'"
   ]
  },
  {
   "cell_type": "code",
   "execution_count": 10,
   "id": "e7b43b7d",
   "metadata": {},
   "outputs": [],
   "source": [
    "fin_data = pd.DataFrame(df[['Text', 'Lemma']])"
   ]
  },
  {
   "cell_type": "code",
   "execution_count": 11,
   "id": "911e884f",
   "metadata": {},
   "outputs": [
    {
     "data": {
      "text/html": [
       "<div>\n",
       "<style scoped>\n",
       "    .dataframe tbody tr th:only-of-type {\n",
       "        vertical-align: middle;\n",
       "    }\n",
       "\n",
       "    .dataframe tbody tr th {\n",
       "        vertical-align: top;\n",
       "    }\n",
       "\n",
       "    .dataframe thead th {\n",
       "        text-align: right;\n",
       "    }\n",
       "</style>\n",
       "<table border=\"1\" class=\"dataframe\">\n",
       "  <thead>\n",
       "    <tr style=\"text-align: right;\">\n",
       "      <th></th>\n",
       "      <th>Text</th>\n",
       "      <th>Lemma</th>\n",
       "      <th>Polarity</th>\n",
       "      <th>Analysis</th>\n",
       "    </tr>\n",
       "  </thead>\n",
       "  <tbody>\n",
       "    <tr>\n",
       "      <th>0</th>\n",
       "      <td>Ex Wife Threatening SuicideRecently I left my ...</td>\n",
       "      <td>Ex Wife Threatening SuicideRecently leave wi...</td>\n",
       "      <td>0.144444</td>\n",
       "      <td>Positive</td>\n",
       "    </tr>\n",
       "    <tr>\n",
       "      <th>1</th>\n",
       "      <td>i need helpjust help me im crying so hard</td>\n",
       "      <td>need helpjust help im cry hard</td>\n",
       "      <td>-0.291667</td>\n",
       "      <td>Negative</td>\n",
       "    </tr>\n",
       "    <tr>\n",
       "      <th>2</th>\n",
       "      <td>Honetly idkI dont know what im even doing here...</td>\n",
       "      <td>Honetly idkI dont know im even feel like not...</td>\n",
       "      <td>-0.155042</td>\n",
       "      <td>Negative</td>\n",
       "    </tr>\n",
       "    <tr>\n",
       "      <th>3</th>\n",
       "      <td>My life is over at 20 years oldHello all. I am...</td>\n",
       "      <td>life year oldHello year old balding male hai...</td>\n",
       "      <td>-0.004563</td>\n",
       "      <td>Negative</td>\n",
       "    </tr>\n",
       "    <tr>\n",
       "      <th>4</th>\n",
       "      <td>Can you imagine getting old? Me neither.Wrinkl...</td>\n",
       "      <td>imagine get old neither Wrinkles weight gain...</td>\n",
       "      <td>-0.053864</td>\n",
       "      <td>Negative</td>\n",
       "    </tr>\n",
       "  </tbody>\n",
       "</table>\n",
       "</div>"
      ],
      "text/plain": [
       "                                                Text  \\\n",
       "0  Ex Wife Threatening SuicideRecently I left my ...   \n",
       "1          i need helpjust help me im crying so hard   \n",
       "2  Honetly idkI dont know what im even doing here...   \n",
       "3  My life is over at 20 years oldHello all. I am...   \n",
       "4  Can you imagine getting old? Me neither.Wrinkl...   \n",
       "\n",
       "                                               Lemma  Polarity  Analysis  \n",
       "0    Ex Wife Threatening SuicideRecently leave wi...  0.144444  Positive  \n",
       "1                     need helpjust help im cry hard -0.291667  Negative  \n",
       "2    Honetly idkI dont know im even feel like not... -0.155042  Negative  \n",
       "3    life year oldHello year old balding male hai... -0.004563  Negative  \n",
       "4    imagine get old neither Wrinkles weight gain... -0.053864  Negative  "
      ]
     },
     "execution_count": 11,
     "metadata": {},
     "output_type": "execute_result"
    }
   ],
   "source": [
    "#fin_data['Subjectivity'] = fin_data['Lemma'].apply(getSubjectivity) \n",
    "fin_data['Polarity'] = fin_data['Lemma'].apply(getPolarity) \n",
    "fin_data['Analysis'] = fin_data['Polarity'].apply(analysis)\n",
    "fin_data.head()"
   ]
  },
  {
   "cell_type": "code",
   "execution_count": 12,
   "id": "af272c36",
   "metadata": {},
   "outputs": [
    {
     "data": {
      "text/plain": [
       "Positive    945\n",
       "Negative    833\n",
       "Neutral     222\n",
       "Name: Analysis, dtype: int64"
      ]
     },
     "execution_count": 12,
     "metadata": {},
     "output_type": "execute_result"
    }
   ],
   "source": [
    "tb_counts = fin_data.Analysis.value_counts()\n",
    "tb_counts"
   ]
  },
  {
   "cell_type": "code",
   "execution_count": 13,
   "id": "e3d9a01b",
   "metadata": {},
   "outputs": [
    {
     "data": {
      "text/plain": [
       "([<matplotlib.patches.Wedge at 0x184cfefa430>,\n",
       "  <matplotlib.patches.Wedge at 0x184cfefaa30>,\n",
       "  <matplotlib.patches.Wedge at 0x184cff10190>],\n",
       " [Text(0.09491501469035439, 1.0958974130758454, 'Positive'),\n",
       "  Text(-0.46366176673311255, -0.9975057724494275, 'Negative'),\n",
       "  Text(1.2687461318934807, -0.4612843513553554, 'Neutral')],\n",
       " [Text(0.05177182619473875, 0.5977622253140974, '47.2%'),\n",
       "  Text(-0.25290641821806137, -0.5440940576996877, '41.7%'),\n",
       "  Text(0.7988401571181173, -0.29043829529781634, '11.1%')])"
      ]
     },
     "execution_count": 13,
     "metadata": {},
     "output_type": "execute_result"
    },
    {
     "data": {
      "image/png": "[encoded data removed]",
      "text/plain": [
       "<Figure size 720x504 with 1 Axes>"
      ]
     },
     "metadata": {},
     "output_type": "display_data"
    }
   ],
   "source": [
    "import matplotlib.pyplot as plt\n",
    "%matplotlib inline\n",
    "\n",
    "tb_count= fin_data.Analysis.value_counts()\n",
    "plt.figure(figsize=(10, 7))\n",
    "plt.pie(tb_counts.values, labels = tb_counts.index, explode = (0, 0, 0.25), autopct='%1.1f%%', shadow=False)"
   ]
  },
  {
   "cell_type": "markdown",
   "id": "63cb13a4",
   "metadata": {},
   "source": [
    "### Análisis de sentimiento usando VADER"
   ]
  },
  {
   "cell_type": "code",
   "execution_count": 14,
   "id": "a8c0e670",
   "metadata": {},
   "outputs": [
    {
     "name": "stdout",
     "output_type": "stream",
     "text": [
      "Requirement already satisfied: vaderSentiment in c:\\users\\gueva\\anaconda3\\lib\\site-packages (3.3.2)\n",
      "Requirement already satisfied: requests in c:\\users\\gueva\\anaconda3\\lib\\site-packages (from vaderSentiment) (2.27.1)\n",
      "Requirement already satisfied: certifi>=2017.4.17 in c:\\users\\gueva\\anaconda3\\lib\\site-packages (from requests->vaderSentiment) (2021.10.8)\n",
      "Requirement already satisfied: urllib3<1.27,>=1.21.1 in c:\\users\\gueva\\anaconda3\\lib\\site-packages (from requests->vaderSentiment) (1.26.8)\n",
      "Requirement already satisfied: idna<4,>=2.5 in c:\\users\\gueva\\anaconda3\\lib\\site-packages (from requests->vaderSentiment) (3.3)\n",
      "Requirement already satisfied: charset-normalizer~=2.0.0 in c:\\users\\gueva\\anaconda3\\lib\\site-packages (from requests->vaderSentiment) (2.0.4)\n"
     ]
    }
   ],
   "source": [
    "!pip install vaderSentiment\n",
    "from vaderSentiment.vaderSentiment import SentimentIntensityAnalyzer\n",
    "analyzer = SentimentIntensityAnalyzer()\n",
    "\n",
    "# function to calculate vader sentiment  \n",
    "def vadersentimentanalysis(post):\n",
    "    vs = analyzer.polarity_scores(post)\n",
    "    return vs['compound']\n",
    "\n",
    "fin_data['Vader Sentiment'] = fin_data['Lemma'].apply(vadersentimentanalysis)"
   ]
  },
  {
   "cell_type": "code",
   "execution_count": 15,
   "id": "01c686eb",
   "metadata": {},
   "outputs": [
    {
     "data": {
      "text/html": [
       "<div>\n",
       "<style scoped>\n",
       "    .dataframe tbody tr th:only-of-type {\n",
       "        vertical-align: middle;\n",
       "    }\n",
       "\n",
       "    .dataframe tbody tr th {\n",
       "        vertical-align: top;\n",
       "    }\n",
       "\n",
       "    .dataframe thead th {\n",
       "        text-align: right;\n",
       "    }\n",
       "</style>\n",
       "<table border=\"1\" class=\"dataframe\">\n",
       "  <thead>\n",
       "    <tr style=\"text-align: right;\">\n",
       "      <th></th>\n",
       "      <th>Text</th>\n",
       "      <th>Lemma</th>\n",
       "      <th>Polarity</th>\n",
       "      <th>Analysis</th>\n",
       "      <th>Vader Sentiment</th>\n",
       "      <th>Vader Analysis</th>\n",
       "    </tr>\n",
       "  </thead>\n",
       "  <tbody>\n",
       "    <tr>\n",
       "      <th>0</th>\n",
       "      <td>Ex Wife Threatening SuicideRecently I left my ...</td>\n",
       "      <td>Ex Wife Threatening SuicideRecently leave wi...</td>\n",
       "      <td>0.144444</td>\n",
       "      <td>Positive</td>\n",
       "      <td>-0.9521</td>\n",
       "      <td>Negative</td>\n",
       "    </tr>\n",
       "    <tr>\n",
       "      <th>1</th>\n",
       "      <td>i need helpjust help me im crying so hard</td>\n",
       "      <td>need helpjust help im cry hard</td>\n",
       "      <td>-0.291667</td>\n",
       "      <td>Negative</td>\n",
       "      <td>-0.2023</td>\n",
       "      <td>Negative</td>\n",
       "    </tr>\n",
       "    <tr>\n",
       "      <th>2</th>\n",
       "      <td>Honetly idkI dont know what im even doing here...</td>\n",
       "      <td>Honetly idkI dont know im even feel like not...</td>\n",
       "      <td>-0.155042</td>\n",
       "      <td>Negative</td>\n",
       "      <td>-0.9687</td>\n",
       "      <td>Negative</td>\n",
       "    </tr>\n",
       "    <tr>\n",
       "      <th>3</th>\n",
       "      <td>My life is over at 20 years oldHello all. I am...</td>\n",
       "      <td>life year oldHello year old balding male hai...</td>\n",
       "      <td>-0.004563</td>\n",
       "      <td>Negative</td>\n",
       "      <td>0.3104</td>\n",
       "      <td>Positive</td>\n",
       "    </tr>\n",
       "    <tr>\n",
       "      <th>4</th>\n",
       "      <td>Can you imagine getting old? Me neither.Wrinkl...</td>\n",
       "      <td>imagine get old neither Wrinkles weight gain...</td>\n",
       "      <td>-0.053864</td>\n",
       "      <td>Negative</td>\n",
       "      <td>-0.9021</td>\n",
       "      <td>Negative</td>\n",
       "    </tr>\n",
       "  </tbody>\n",
       "</table>\n",
       "</div>"
      ],
      "text/plain": [
       "                                                Text  \\\n",
       "0  Ex Wife Threatening SuicideRecently I left my ...   \n",
       "1          i need helpjust help me im crying so hard   \n",
       "2  Honetly idkI dont know what im even doing here...   \n",
       "3  My life is over at 20 years oldHello all. I am...   \n",
       "4  Can you imagine getting old? Me neither.Wrinkl...   \n",
       "\n",
       "                                               Lemma  Polarity  Analysis  \\\n",
       "0    Ex Wife Threatening SuicideRecently leave wi...  0.144444  Positive   \n",
       "1                     need helpjust help im cry hard -0.291667  Negative   \n",
       "2    Honetly idkI dont know im even feel like not... -0.155042  Negative   \n",
       "3    life year oldHello year old balding male hai... -0.004563  Negative   \n",
       "4    imagine get old neither Wrinkles weight gain... -0.053864  Negative   \n",
       "\n",
       "   Vader Sentiment Vader Analysis  \n",
       "0          -0.9521       Negative  \n",
       "1          -0.2023       Negative  \n",
       "2          -0.9687       Negative  \n",
       "3           0.3104       Positive  \n",
       "4          -0.9021       Negative  "
      ]
     },
     "execution_count": 15,
     "metadata": {},
     "output_type": "execute_result"
    }
   ],
   "source": [
    "# function to analyse \n",
    "def vader_analysis(compound):\n",
    "    if compound >= 0.1:\n",
    "        return 'Positive'\n",
    "    elif compound <= -0.1:\n",
    "        return 'Negative'\n",
    "    else:\n",
    "        return 'Neutral'\n",
    "    \n",
    "fin_data['Vader Analysis'] = fin_data['Vader Sentiment'].apply(vader_analysis)\n",
    "fin_data.head()\n"
   ]
  },
  {
   "cell_type": "code",
   "execution_count": 16,
   "id": "95d0c43d",
   "metadata": {},
   "outputs": [
    {
     "data": {
      "text/plain": [
       "Negative    982\n",
       "Positive    828\n",
       "Neutral     190\n",
       "Name: Vader Analysis, dtype: int64"
      ]
     },
     "execution_count": 16,
     "metadata": {},
     "output_type": "execute_result"
    }
   ],
   "source": [
    "vader_counts = fin_data['Vader Analysis'].value_counts()\n",
    "vader_counts"
   ]
  },
  {
   "cell_type": "code",
   "execution_count": 17,
   "id": "9060ea5d",
   "metadata": {},
   "outputs": [
    {
     "data": {
      "text/plain": [
       "([<matplotlib.patches.Wedge at 0x184cffb52e0>,\n",
       "  <matplotlib.patches.Wedge at 0x184cffb58e0>,\n",
       "  <matplotlib.patches.Wedge at 0x184d0161040>],\n",
       " [Text(0.031097634977506766, 1.0995603380891865, 'Negative'),\n",
       "  Text(-0.3530379778108914, -1.041808133114345, 'Positive'),\n",
       "  Text(1.2903205714643677, -0.39695443423126986, 'Neutral')],\n",
       " [Text(0.016962346351367324, 0.5997601844122834, '49.1%'),\n",
       "  Text(-0.19256616971503168, -0.5682589816987336, '41.4%'),\n",
       "  Text(0.8124240635146018, -0.2499342734048736, '9.5%')])"
      ]
     },
     "execution_count": 17,
     "metadata": {},
     "output_type": "execute_result"
    },
    {
     "data": {
      "image/png": "[encoded data removed]",
      "text/plain": [
       "<Figure size 720x504 with 1 Axes>"
      ]
     },
     "metadata": {},
     "output_type": "display_data"
    }
   ],
   "source": [
    "vader_counts= fin_data['Vader Analysis'].value_counts()\n",
    "plt.figure(figsize=(10, 7))\n",
    "plt.pie(vader_counts.values, labels = vader_counts.index, explode = (0, 0, .25), autopct='%1.1f%%', shadow=False)\n",
    "# plt.legend()"
   ]
  },
  {
   "cell_type": "markdown",
   "id": "e5f1471b",
   "metadata": {},
   "source": [
    "### Análisis de sentimiento usando SentiWordNet"
   ]
  },
  {
   "cell_type": "code",
   "execution_count": 19,
   "id": "2386f741",
   "metadata": {},
   "outputs": [
    {
     "name": "stderr",
     "output_type": "stream",
     "text": [
      "[nltk_data] Downloading package sentiwordnet to\n",
      "[nltk_data]     C:\\Users\\gueva\\AppData\\Roaming\\nltk_data...\n",
      "[nltk_data]   Package sentiwordnet is already up-to-date!\n"
     ]
    },
    {
     "data": {
      "text/html": [
       "<div>\n",
       "<style scoped>\n",
       "    .dataframe tbody tr th:only-of-type {\n",
       "        vertical-align: middle;\n",
       "    }\n",
       "\n",
       "    .dataframe tbody tr th {\n",
       "        vertical-align: top;\n",
       "    }\n",
       "\n",
       "    .dataframe thead th {\n",
       "        text-align: right;\n",
       "    }\n",
       "</style>\n",
       "<table border=\"1\" class=\"dataframe\">\n",
       "  <thead>\n",
       "    <tr style=\"text-align: right;\">\n",
       "      <th></th>\n",
       "      <th>Text</th>\n",
       "      <th>Lemma</th>\n",
       "      <th>Polarity</th>\n",
       "      <th>Analysis</th>\n",
       "      <th>Vader Sentiment</th>\n",
       "      <th>Vader Analysis</th>\n",
       "      <th>SWN analysis</th>\n",
       "    </tr>\n",
       "  </thead>\n",
       "  <tbody>\n",
       "    <tr>\n",
       "      <th>0</th>\n",
       "      <td>Ex Wife Threatening SuicideRecently I left my ...</td>\n",
       "      <td>Ex Wife Threatening SuicideRecently leave wi...</td>\n",
       "      <td>0.144444</td>\n",
       "      <td>Positive</td>\n",
       "      <td>-0.9521</td>\n",
       "      <td>Negative</td>\n",
       "      <td>Positive</td>\n",
       "    </tr>\n",
       "    <tr>\n",
       "      <th>1</th>\n",
       "      <td>i need helpjust help me im crying so hard</td>\n",
       "      <td>need helpjust help im cry hard</td>\n",
       "      <td>-0.291667</td>\n",
       "      <td>Negative</td>\n",
       "      <td>-0.2023</td>\n",
       "      <td>Negative</td>\n",
       "      <td>Negative</td>\n",
       "    </tr>\n",
       "    <tr>\n",
       "      <th>2</th>\n",
       "      <td>Honetly idkI dont know what im even doing here...</td>\n",
       "      <td>Honetly idkI dont know im even feel like not...</td>\n",
       "      <td>-0.155042</td>\n",
       "      <td>Negative</td>\n",
       "      <td>-0.9687</td>\n",
       "      <td>Negative</td>\n",
       "      <td>Negative</td>\n",
       "    </tr>\n",
       "    <tr>\n",
       "      <th>3</th>\n",
       "      <td>My life is over at 20 years oldHello all. I am...</td>\n",
       "      <td>life year oldHello year old balding male hai...</td>\n",
       "      <td>-0.004563</td>\n",
       "      <td>Negative</td>\n",
       "      <td>0.3104</td>\n",
       "      <td>Positive</td>\n",
       "      <td>Negative</td>\n",
       "    </tr>\n",
       "    <tr>\n",
       "      <th>4</th>\n",
       "      <td>Can you imagine getting old? Me neither.Wrinkl...</td>\n",
       "      <td>imagine get old neither Wrinkles weight gain...</td>\n",
       "      <td>-0.053864</td>\n",
       "      <td>Negative</td>\n",
       "      <td>-0.9021</td>\n",
       "      <td>Negative</td>\n",
       "      <td>Positive</td>\n",
       "    </tr>\n",
       "  </tbody>\n",
       "</table>\n",
       "</div>"
      ],
      "text/plain": [
       "                                                Text  \\\n",
       "0  Ex Wife Threatening SuicideRecently I left my ...   \n",
       "1          i need helpjust help me im crying so hard   \n",
       "2  Honetly idkI dont know what im even doing here...   \n",
       "3  My life is over at 20 years oldHello all. I am...   \n",
       "4  Can you imagine getting old? Me neither.Wrinkl...   \n",
       "\n",
       "                                               Lemma  Polarity  Analysis  \\\n",
       "0    Ex Wife Threatening SuicideRecently leave wi...  0.144444  Positive   \n",
       "1                     need helpjust help im cry hard -0.291667  Negative   \n",
       "2    Honetly idkI dont know im even feel like not... -0.155042  Negative   \n",
       "3    life year oldHello year old balding male hai... -0.004563  Negative   \n",
       "4    imagine get old neither Wrinkles weight gain... -0.053864  Negative   \n",
       "\n",
       "   Vader Sentiment Vader Analysis SWN analysis  \n",
       "0          -0.9521       Negative     Positive  \n",
       "1          -0.2023       Negative     Negative  \n",
       "2          -0.9687       Negative     Negative  \n",
       "3           0.3104       Positive     Negative  \n",
       "4          -0.9021       Negative     Positive  "
      ]
     },
     "execution_count": 19,
     "metadata": {},
     "output_type": "execute_result"
    }
   ],
   "source": [
    "nltk.download('sentiwordnet')\n",
    "from nltk.corpus import sentiwordnet as swn\n",
    "\n",
    "def sentiwordnetanalysis(pos_data):\n",
    "    sentiment = 0\n",
    "    tokens_count = 0\n",
    "    for word, pos in pos_data:\n",
    "        if not pos:\n",
    "            continue\n",
    "        lemma = wordnet_lemmatizer.lemmatize(word, pos=pos)\n",
    "        if not lemma:\n",
    "            continue\n",
    "        \n",
    "        synsets = wordnet.synsets(lemma, pos=pos)\n",
    "        if not synsets:\n",
    "            continue\n",
    "\n",
    "        # Take the first sense, the most common\n",
    "        synset = synsets[0]\n",
    "        swn_synset = swn.senti_synset(synset.name())\n",
    "        sentiment += swn_synset.pos_score() - swn_synset.neg_score()\n",
    "        tokens_count += 1\n",
    "        # print(swn_synset.pos_score(),swn_synset.neg_score(),swn_synset.obj_score())\n",
    "    if not tokens_count:\n",
    "        return 0\n",
    "    if sentiment>0:\n",
    "        return \"Positive\"\n",
    "    if sentiment==0:\n",
    "        return \"Neutral\"\n",
    "    else:\n",
    "        return \"Negative\"\n",
    "\n",
    "fin_data['SWN analysis'] = df['POS tagged'].apply(sentiwordnetanalysis)\n",
    "fin_data.head()"
   ]
  },
  {
   "cell_type": "code",
   "execution_count": 20,
   "id": "29890305",
   "metadata": {},
   "outputs": [
    {
     "data": {
      "text/plain": [
       "Positive    1040\n",
       "Negative     796\n",
       "Neutral      162\n",
       "0              2\n",
       "Name: SWN analysis, dtype: int64"
      ]
     },
     "execution_count": 20,
     "metadata": {},
     "output_type": "execute_result"
    }
   ],
   "source": [
    "swn_counts= fin_data['SWN analysis'].value_counts()\n",
    "swn_counts"
   ]
  },
  {
   "cell_type": "code",
   "execution_count": 21,
   "id": "5495b54f",
   "metadata": {},
   "outputs": [
    {
     "data": {
      "text/plain": [
       "([<matplotlib.patches.Wedge at 0x184d73bdbb0>,\n",
       "  <matplotlib.patches.Wedge at 0x184d73cc310>,\n",
       "  <matplotlib.patches.Wedge at 0x184d73cc7f0>,\n",
       "  <matplotlib.patches.Wedge at 0x184d73ccf10>],\n",
       " [Text(-0.06906950569907239, 1.0978294054098232, 'Positive'),\n",
       "  Text(-0.21290453772296367, -1.079199544948464, 'Negative'),\n",
       "  Text(1.3043650099520903, -0.3480401137982284, 'Neutral'),\n",
       "  Text(1.0999945713550003, -0.0034558630657477354, '0')],\n",
       " [Text(-0.03767427583585766, 0.5988160393144489, '52.0%'),\n",
       "  Text(-0.11612974784888926, -0.5886542972446166, '39.8%'),\n",
       "  Text(0.8212668581179827, -0.21913636794703273, '8.1%'),\n",
       "  Text(0.5999970389209093, -0.0018850162176805828, '0.1%')])"
      ]
     },
     "execution_count": 21,
     "metadata": {},
     "output_type": "execute_result"
    },
    {
     "data": {
      "image/png": "[encoded data removed]",
      "text/plain": [
       "<Figure size 720x504 with 1 Axes>"
      ]
     },
     "metadata": {},
     "output_type": "display_data"
    }
   ],
   "source": [
    "swn_counts= fin_data['SWN analysis'].value_counts()\n",
    "plt.figure(figsize=(10, 7))\n",
    "plt.pie(swn_counts.values, labels = swn_counts.index, explode = (0, 0, 0.25,0), autopct='%1.1f%%', shadow=False)"
   ]
  },
  {
   "cell_type": "code",
   "execution_count": 22,
   "id": "87b6119e",
   "metadata": {},
   "outputs": [
    {
     "data": {
      "text/plain": [
       "([<matplotlib.patches.Wedge at 0x184d74b3df0>,\n",
       "  <matplotlib.patches.Wedge at 0x184d74c05b0>,\n",
       "  <matplotlib.patches.Wedge at 0x184d74c0cd0>,\n",
       "  <matplotlib.patches.Wedge at 0x184d74d0430>],\n",
       " [Text(-0.06906950569907239, 1.0978294054098232, 'Positive'),\n",
       "  Text(-0.21290453772296367, -1.079199544948464, 'Negative'),\n",
       "  Text(1.3043650099520903, -0.3480401137982284, 'Neutral'),\n",
       "  Text(1.0999945713550003, -0.0034558630657477354, '0')],\n",
       " [Text(-0.03767427583585766, 0.5988160393144489, '52.0%'),\n",
       "  Text(-0.11612974784888926, -0.5886542972446166, '39.8%'),\n",
       "  Text(0.8212668581179827, -0.21913636794703273, '8.1%'),\n",
       "  Text(0.5999970389209093, -0.0018850162176805828, '0.1%')])"
      ]
     },
     "execution_count": 22,
     "metadata": {},
     "output_type": "execute_result"
    },
    {
     "data": {
      "image/png": "[encoded data removed]",
      "text/plain": [
       "<Figure size 1080x504 with 3 Axes>"
      ]
     },
     "metadata": {},
     "output_type": "display_data"
    }
   ],
   "source": [
    "import matplotlib.pyplot as plt\n",
    "%matplotlib inline\n",
    "\n",
    "plt.figure(figsize=(15,7))\n",
    "plt.subplot(1,3,1)\n",
    "plt.title(\"TextBlob results\")\n",
    "plt.pie(tb_counts.values, labels = tb_counts.index, explode = (0, 0, 0.25), autopct='%1.1f%%', shadow=False)\n",
    "plt.subplot(1,3,2)\n",
    "plt.title(\"VADER results\")\n",
    "plt.pie(vader_counts.values, labels = vader_counts.index, explode = (0, 0, 0.25), autopct='%1.1f%%', shadow=False)\n",
    "plt.subplot(1,3,3)\n",
    "plt.title(\"SentiWordNet results\")\n",
    "plt.pie(swn_counts.values, labels = swn_counts.index, explode = (0, 0, 0.25,0), autopct='%1.1f%%', shadow=False)"
   ]
  },
  {
   "cell_type": "markdown",
   "id": "fd45d694",
   "metadata": {},
   "source": [
    "## Clasificación de Texto"
   ]
  },
  {
   "cell_type": "code",
   "execution_count": 6,
   "id": "31dd08bb",
   "metadata": {},
   "outputs": [],
   "source": [
    "features = df.iloc[:, 0].values\n",
    "labels = df.iloc[:, 1].values"
   ]
  },
  {
   "cell_type": "code",
   "execution_count": 24,
   "id": "d1fe7ca3",
   "metadata": {},
   "outputs": [],
   "source": [
    "processed_features = []\n",
    "\n",
    "for sentence in range(0, len(features)):\n",
    "    # Remove all the special characters\n",
    "    processed_feature = re.sub(r'\\W', ' ', str(features[sentence]))\n",
    "    # remove all single characters\n",
    "    processed_feature= re.sub(r'\\s+[a-zA-Z]\\s+', ' ', processed_feature)\n",
    "    # Remove single characters from the start\n",
    "    processed_feature = re.sub(r'\\^[a-zA-Z]\\s+', ' ', processed_feature) \n",
    "    # Substituting multiple spaces with single space\n",
    "    processed_feature = re.sub(r'\\s+', ' ', processed_feature, flags=re.I)\n",
    "    # Removing prefixed 'b'\n",
    "    processed_feature = re.sub(r'^b\\s+', '', processed_feature)\n",
    "    # Converting to Lowercase\n",
    "    processed_feature = processed_feature.lower()\n",
    "\n",
    "    processed_features.append(processed_feature)"
   ]
  },
  {
   "cell_type": "code",
   "execution_count": 25,
   "id": "60c5c30f",
   "metadata": {},
   "outputs": [],
   "source": [
    "from nltk.corpus import stopwords\n",
    "from sklearn.feature_extraction.text import TfidfVectorizer\n",
    "\n",
    "vectorizer = TfidfVectorizer (max_features=2500, min_df=7, max_df=0.8, stop_words=stopwords.words('english'))\n",
    "processed_features = vectorizer.fit_transform(processed_features).toarray()"
   ]
  },
  {
   "cell_type": "code",
   "execution_count": 26,
   "id": "517a3d82",
   "metadata": {},
   "outputs": [],
   "source": [
    "from sklearn.model_selection import train_test_split\n",
    "\n",
    "X_train, X_test, y_train, y_test = train_test_split(processed_features, labels, test_size=0.2, random_state=0)"
   ]
  },
  {
   "cell_type": "markdown",
   "id": "ae103479",
   "metadata": {},
   "source": [
    "### Clasificación de texto con Random Forest"
   ]
  },
  {
   "cell_type": "code",
   "execution_count": 27,
   "id": "2fd45b54",
   "metadata": {},
   "outputs": [
    {
     "data": {
      "text/plain": [
       "RandomForestClassifier(n_estimators=200, random_state=0)"
      ]
     },
     "execution_count": 27,
     "metadata": {},
     "output_type": "execute_result"
    }
   ],
   "source": [
    "from sklearn.ensemble import RandomForestClassifier\n",
    "\n",
    "text_classifier = RandomForestClassifier(n_estimators=200, random_state=0)\n",
    "text_classifier.fit(X_train, y_train)"
   ]
  },
  {
   "cell_type": "code",
   "execution_count": 28,
   "id": "114f6d97",
   "metadata": {},
   "outputs": [],
   "source": [
    "predictionsRF = text_classifier.predict(X_test)\n"
   ]
  },
  {
   "cell_type": "code",
   "execution_count": 29,
   "id": "2ada625d",
   "metadata": {},
   "outputs": [
    {
     "name": "stdout",
     "output_type": "stream",
     "text": [
      "Matriz de Confusion RF\n",
      "[[169  31]\n",
      " [ 21 179]]\n",
      "Clasificación RF\n",
      "              precision    recall  f1-score   support\n",
      "\n",
      " No Suicidio       0.89      0.84      0.87       200\n",
      "    Suicidio       0.85      0.90      0.87       200\n",
      "\n",
      "    accuracy                           0.87       400\n",
      "   macro avg       0.87      0.87      0.87       400\n",
      "weighted avg       0.87      0.87      0.87       400\n",
      "\n",
      "Score RF\n",
      "0.87\n"
     ]
    }
   ],
   "source": [
    "from sklearn.metrics import classification_report, confusion_matrix, accuracy_score\n",
    "\n",
    "MatrizConfusiónRF=confusion_matrix(y_test,predictionsRF)\n",
    "ClasificaciónRF=classification_report(y_test,predictionsRF)\n",
    "ScoreRF=accuracy_score(y_test, predictionsRF)\n",
    "\n",
    "print(\"Matriz de Confusion RF\")\n",
    "print(MatrizConfusiónRF)\n",
    "print(\"Clasificación RF\")\n",
    "print(ClasificaciónRF)\n",
    "print(\"Score RF\")\n",
    "print(ScoreRF)"
   ]
  },
  {
   "cell_type": "markdown",
   "id": "143683d4",
   "metadata": {},
   "source": [
    "### Clasificación de texto con KNeighbors"
   ]
  },
  {
   "cell_type": "code",
   "execution_count": 30,
   "id": "8da00729",
   "metadata": {},
   "outputs": [
    {
     "data": {
      "text/plain": [
       "KNeighborsClassifier(n_neighbors=10)"
      ]
     },
     "execution_count": 30,
     "metadata": {},
     "output_type": "execute_result"
    }
   ],
   "source": [
    "from sklearn.neighbors import KNeighborsClassifier\n",
    "\n",
    "text_classifier = KNeighborsClassifier(n_neighbors=10)\n",
    "text_classifier.fit(X_train, y_train)"
   ]
  },
  {
   "cell_type": "code",
   "execution_count": 31,
   "id": "dd0accbe",
   "metadata": {},
   "outputs": [],
   "source": [
    "predictionsKN = text_classifier.predict(X_test)"
   ]
  },
  {
   "cell_type": "code",
   "execution_count": 32,
   "id": "44b679ff",
   "metadata": {},
   "outputs": [
    {
     "name": "stdout",
     "output_type": "stream",
     "text": [
      "Matriz de Confusion KN\n",
      "[[183  17]\n",
      " [ 59 141]]\n",
      "Clasificación KN\n",
      "              precision    recall  f1-score   support\n",
      "\n",
      " No Suicidio       0.76      0.92      0.83       200\n",
      "    Suicidio       0.89      0.70      0.79       200\n",
      "\n",
      "    accuracy                           0.81       400\n",
      "   macro avg       0.82      0.81      0.81       400\n",
      "weighted avg       0.82      0.81      0.81       400\n",
      "\n",
      "Score KN\n",
      "0.81\n"
     ]
    }
   ],
   "source": [
    "from sklearn.metrics import classification_report, confusion_matrix, accuracy_score\n",
    "\n",
    "MatrizConfusiónKN=confusion_matrix(y_test,predictionsKN)\n",
    "ClasificaciónKN=classification_report(y_test,predictionsKN)\n",
    "ScoreKN=accuracy_score(y_test, predictionsKN)\n",
    "\n",
    "print(\"Matriz de Confusion KN\")\n",
    "print(MatrizConfusiónKN)\n",
    "print(\"Clasificación KN\")\n",
    "print(ClasificaciónKN)\n",
    "print(\"Score KN\")\n",
    "print(ScoreKN)"
   ]
  },
  {
   "cell_type": "markdown",
   "id": "58ee1dec",
   "metadata": {},
   "source": [
    "### Clasificación de texto con Naive Bayes"
   ]
  },
  {
   "cell_type": "code",
   "execution_count": 33,
   "id": "7f6d1299",
   "metadata": {},
   "outputs": [
    {
     "data": {
      "text/plain": [
       "MultinomialNB(alpha=0.01)"
      ]
     },
     "execution_count": 33,
     "metadata": {},
     "output_type": "execute_result"
    }
   ],
   "source": [
    "from sklearn.naive_bayes import MultinomialNB\n",
    "\n",
    "text_classifier = MultinomialNB(alpha=0.01)\n",
    "text_classifier.fit(X_train, y_train)"
   ]
  },
  {
   "cell_type": "code",
   "execution_count": 34,
   "id": "8ff4ab04",
   "metadata": {},
   "outputs": [],
   "source": [
    "predictionsNB = text_classifier.predict(X_test)"
   ]
  },
  {
   "cell_type": "code",
   "execution_count": 35,
   "id": "a3ec2729",
   "metadata": {},
   "outputs": [
    {
     "name": "stdout",
     "output_type": "stream",
     "text": [
      "Matriz de Confusion NB\n",
      "[[145  55]\n",
      " [ 10 190]]\n",
      "Clasificación NB\n",
      "              precision    recall  f1-score   support\n",
      "\n",
      " No Suicidio       0.94      0.72      0.82       200\n",
      "    Suicidio       0.78      0.95      0.85       200\n",
      "\n",
      "    accuracy                           0.84       400\n",
      "   macro avg       0.86      0.84      0.84       400\n",
      "weighted avg       0.86      0.84      0.84       400\n",
      "\n",
      "Score NB\n",
      "0.81\n"
     ]
    }
   ],
   "source": [
    "from sklearn.metrics import classification_report, confusion_matrix, accuracy_score\n",
    "\n",
    "MatrizConfusiónNB=confusion_matrix(y_test,predictionsNB)\n",
    "ClasificaciónNB=classification_report(y_test,predictionsNB)\n",
    "ScoreNB=accuracy_score(y_test, predictionsKN)\n",
    "\n",
    "print(\"Matriz de Confusion NB\")\n",
    "print(MatrizConfusiónNB)\n",
    "print(\"Clasificación NB\")\n",
    "print(ClasificaciónNB)\n",
    "print(\"Score NB\")\n",
    "print(ScoreNB)"
   ]
  },
  {
   "cell_type": "markdown",
   "id": "9728b710",
   "metadata": {},
   "source": [
    "### Clasificación de texto con Support Vector Machine"
   ]
  },
  {
   "cell_type": "code",
   "execution_count": 46,
   "id": "61b7b6cf",
   "metadata": {},
   "outputs": [
    {
     "data": {
      "text/plain": [
       "LinearSVC(dual=False, penalty='l1', tol=0.001)"
      ]
     },
     "execution_count": 46,
     "metadata": {},
     "output_type": "execute_result"
    }
   ],
   "source": [
    "from sklearn.svm import LinearSVC\n",
    "\n",
    "text_classifier=LinearSVC(dual=False, penalty='l1', tol=0.001)\n",
    "text_classifier.fit(X_train, y_train)"
   ]
  },
  {
   "cell_type": "code",
   "execution_count": 47,
   "id": "7a3de6fa",
   "metadata": {},
   "outputs": [],
   "source": [
    "predictionsSVC = text_classifier.predict(X_test)"
   ]
  },
  {
   "cell_type": "code",
   "execution_count": 48,
   "id": "db01adde",
   "metadata": {},
   "outputs": [
    {
     "name": "stdout",
     "output_type": "stream",
     "text": [
      "Matriz de Confusion SVC\n",
      "[[183  17]\n",
      " [ 30 170]]\n",
      "Clasificación SVC\n",
      "              precision    recall  f1-score   support\n",
      "\n",
      " No Suicidio       0.86      0.92      0.89       200\n",
      "    Suicidio       0.91      0.85      0.88       200\n",
      "\n",
      "    accuracy                           0.88       400\n",
      "   macro avg       0.88      0.88      0.88       400\n",
      "weighted avg       0.88      0.88      0.88       400\n",
      "\n",
      "Score SVC\n",
      "0.8825\n"
     ]
    }
   ],
   "source": [
    "from sklearn.metrics import classification_report, confusion_matrix, accuracy_score\n",
    "\n",
    "MatrizConfusiónSVC=confusion_matrix(y_test,predictionsSVC)\n",
    "ClasificaciónSVC=classification_report(y_test,predictionsSVC)\n",
    "ScoreSVC=accuracy_score(y_test, predictionsSVC)\n",
    "\n",
    "print(\"Matriz de Confusion SVC\")\n",
    "print(MatrizConfusiónSVC)\n",
    "print(\"Clasificación SVC\")\n",
    "print(ClasificaciónSVC)\n",
    "print(\"Score SVC\")\n",
    "print(ScoreSVC)"
   ]
  },
  {
   "cell_type": "markdown",
   "id": "c3259ca7",
   "metadata": {},
   "source": [
    "### Clasificación de texto con Stochastic Gradient Descent"
   ]
  },
  {
   "cell_type": "code",
   "execution_count": 49,
   "id": "6edbd2f9",
   "metadata": {},
   "outputs": [
    {
     "data": {
      "text/plain": [
       "SGDClassifier(max_iter=50)"
      ]
     },
     "execution_count": 49,
     "metadata": {},
     "output_type": "execute_result"
    }
   ],
   "source": [
    "from sklearn.linear_model import SGDClassifier\n",
    "\n",
    "text_classifier = SGDClassifier(max_iter=50)\n",
    "text_classifier.fit(X_train, y_train)"
   ]
  },
  {
   "cell_type": "code",
   "execution_count": 50,
   "id": "9e810d64",
   "metadata": {},
   "outputs": [],
   "source": [
    "predictionsSGD = text_classifier.predict(X_test)"
   ]
  },
  {
   "cell_type": "code",
   "execution_count": 51,
   "id": "8e3e336d",
   "metadata": {},
   "outputs": [
    {
     "name": "stdout",
     "output_type": "stream",
     "text": [
      "Matriz de Confusion SGD\n",
      "[[178  22]\n",
      " [ 31 169]]\n",
      "Clasificación SGD\n",
      "              precision    recall  f1-score   support\n",
      "\n",
      " No Suicidio       0.85      0.89      0.87       200\n",
      "    Suicidio       0.88      0.84      0.86       200\n",
      "\n",
      "    accuracy                           0.87       400\n",
      "   macro avg       0.87      0.87      0.87       400\n",
      "weighted avg       0.87      0.87      0.87       400\n",
      "\n",
      "Score SGD\n",
      "0.8675\n"
     ]
    }
   ],
   "source": [
    "from sklearn.metrics import classification_report, confusion_matrix, accuracy_score\n",
    "\n",
    "MatrizConfusiónSGD=confusion_matrix(y_test,predictionsSGD)\n",
    "ClasificaciónSGD=classification_report(y_test,predictionsSGD)\n",
    "ScoreSGD=accuracy_score(y_test, predictionsSGD)\n",
    "\n",
    "print(\"Matriz de Confusion SGD\")\n",
    "print(MatrizConfusiónSGD)\n",
    "print(\"Clasificación SGD\")\n",
    "print(ClasificaciónSGD)\n",
    "print(\"Score SGD\")\n",
    "print(ScoreSGD)"
   ]
  },
  {
   "cell_type": "markdown",
   "id": "52e3358c",
   "metadata": {},
   "source": [
    "## Comparativo de modelos"
   ]
  },
  {
   "cell_type": "code",
   "execution_count": 54,
   "id": "3034568a",
   "metadata": {},
   "outputs": [
    {
     "name": "stdout",
     "output_type": "stream",
     "text": [
      "                        Modelo   Score\n",
      "0                Random Forest  0.8700\n",
      "1                  K Neighbors  0.8100\n",
      "2                  Naive Bayes  0.8100\n",
      "3    Support Vector Classifier  0.8825\n",
      "4  Stochastic Gradient Descent  0.8675\n"
     ]
    }
   ],
   "source": [
    "import pandas as pd\n",
    "\n",
    "datos = [[\"Random Forest\",ScoreRF],\n",
    "         [\"K Neighbors\",ScoreKN],\n",
    "         [\"Naive Bayes\",ScoreNB],\n",
    "         [\"Support Vector Classifier\",ScoreSVC],\n",
    "         [\"Stochastic Gradient Descent\",ScoreSGD]]\n",
    "\n",
    "columnas = ['Modelo','Score'] # definimos los nombres de las columnas\n",
    "filas = [0,1,2,3,4] # definimos los nombres de las filas\n",
    "\n",
    "dfdatos = pd.DataFrame(datos, columns=columnas, index=filas)\n",
    "\n",
    "print(dfdatos)"
   ]
  },
  {
   "cell_type": "code",
   "execution_count": 55,
   "id": "c80d24f1",
   "metadata": {},
   "outputs": [
    {
     "data": {
      "image/png": "[encoded data removed]",
      "text/plain": [
       "<Figure size 720x360 with 1 Axes>"
      ]
     },
     "metadata": {},
     "output_type": "display_data"
    }
   ],
   "source": [
    "import matplotlib.pyplot as plt\n",
    "import seaborn as sns\n",
    "sns.set()\n",
    "\n",
    "### Gráfico de barras\n",
    "\n",
    "plt.figure(  figsize=(10,5)  )  # Tamaño del gráfico\n",
    "sns.barplot(data= dfdatos, x='Score', y='Modelo', order= ['Random Forest', 'K Neighbors', 'Naive Bayes', \n",
    "            'Support Vector Classifier', 'Stochastic Gradient Descent'],orient= 'h')\n",
    "def add_value_label(Score_list, Modelo_list):\n",
    "    for i in range(1, len(Score_list)+1):\n",
    "        plt.annotate(Modelo_list[i-1],(i,y_list[i-1]),ha=\"center\")\n",
    "plt.show()\n"
   ]
  }
 ],
 "metadata": {
  "kernelspec": {
   "display_name": "Python 3 (ipykernel)",
   "language": "python",
   "name": "python3"
  },
  "language_info": {
   "codemirror_mode": {
    "name": "ipython",
    "version": 3
   },
   "file_extension": ".py",
   "mimetype": "text/x-python",
   "name": "python",
   "nbconvert_exporter": "python",
   "pygments_lexer": "ipython3",
   "version": "3.8.8"
  }
 },
 "nbformat": 4,
 "nbformat_minor": 5
}
