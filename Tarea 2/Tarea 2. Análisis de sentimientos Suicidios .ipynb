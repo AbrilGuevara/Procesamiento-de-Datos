{
 "cells": [
  {
   "cell_type": "code",
   "execution_count": 1,
   "id": "9be4a9e3",
   "metadata": {},
   "outputs": [],
   "source": [
    "import requests\n",
    "from bs4 import BeautifulSoup\n",
    "import nltk\n",
    "from nltk.stem import WordNetLemmatizer \n",
    "import codecs\n",
    "import pandas as pd"
   ]
  },
  {
   "cell_type": "code",
   "execution_count": 2,
   "id": "60f56603",
   "metadata": {},
   "outputs": [
    {
     "data": {
      "text/html": [
       "<div>\n",
       "<style scoped>\n",
       "    .dataframe tbody tr th:only-of-type {\n",
       "        vertical-align: middle;\n",
       "    }\n",
       "\n",
       "    .dataframe tbody tr th {\n",
       "        vertical-align: top;\n",
       "    }\n",
       "\n",
       "    .dataframe thead th {\n",
       "        text-align: right;\n",
       "    }\n",
       "</style>\n",
       "<table border=\"1\" class=\"dataframe\">\n",
       "  <thead>\n",
       "    <tr style=\"text-align: right;\">\n",
       "      <th></th>\n",
       "      <th>Text</th>\n",
       "    </tr>\n",
       "  </thead>\n",
       "  <tbody>\n",
       "    <tr>\n",
       "      <th>0</th>\n",
       "      <td>Ex Wife Threatening SuicideRecently I left my ...</td>\n",
       "    </tr>\n",
       "    <tr>\n",
       "      <th>1</th>\n",
       "      <td>i need helpjust help me im crying so hard</td>\n",
       "    </tr>\n",
       "    <tr>\n",
       "      <th>2</th>\n",
       "      <td>Honetly idkI dont know what im even doing here...</td>\n",
       "    </tr>\n",
       "    <tr>\n",
       "      <th>3</th>\n",
       "      <td>My life is over at 20 years oldHello all. I am...</td>\n",
       "    </tr>\n",
       "    <tr>\n",
       "      <th>4</th>\n",
       "      <td>Can you imagine getting old? Me neither.Wrinkl...</td>\n",
       "    </tr>\n",
       "  </tbody>\n",
       "</table>\n",
       "</div>"
      ],
      "text/plain": [
       "                                                Text\n",
       "0  Ex Wife Threatening SuicideRecently I left my ...\n",
       "1          i need helpjust help me im crying so hard\n",
       "2  Honetly idkI dont know what im even doing here...\n",
       "3  My life is over at 20 years oldHello all. I am...\n",
       "4  Can you imagine getting old? Me neither.Wrinkl..."
      ]
     },
     "execution_count": 2,
     "metadata": {},
     "output_type": "execute_result"
    }
   ],
   "source": [
    "import pandas as pd\n",
    "df = pd.read_csv(\"BDSuicidios2.csv\")\n",
    "df.head()"
   ]
  },
  {
   "cell_type": "code",
   "execution_count": 3,
   "id": "b81b7702",
   "metadata": {},
   "outputs": [
    {
     "data": {
      "text/plain": [
       "(116014, 1)"
      ]
     },
     "execution_count": 3,
     "metadata": {},
     "output_type": "execute_result"
    }
   ],
   "source": [
    "df.shape"
   ]
  },
  {
   "cell_type": "code",
   "execution_count": 4,
   "id": "059d54b7",
   "metadata": {},
   "outputs": [
    {
     "data": {
      "text/plain": [
       "(514, 1)"
      ]
     },
     "execution_count": 4,
     "metadata": {},
     "output_type": "execute_result"
    }
   ],
   "source": [
    "N=115500\n",
    "dataset = df.iloc[:-N , :]\n",
    "dataset.shape"
   ]
  },
  {
   "cell_type": "code",
   "execution_count": 5,
   "id": "4cc1749b",
   "metadata": {},
   "outputs": [
    {
     "name": "stderr",
     "output_type": "stream",
     "text": [
      "C:\\Users\\gueva\\AppData\\Local\\Temp/ipykernel_8352/4068471738.py:10: SettingWithCopyWarning: \n",
      "A value is trying to be set on a copy of a slice from a DataFrame.\n",
      "Try using .loc[row_indexer,col_indexer] = value instead\n",
      "\n",
      "See the caveats in the documentation: https://pandas.pydata.org/pandas-docs/stable/user_guide/indexing.html#returning-a-view-versus-a-copy\n",
      "  dataset['Cleaned Posts'] = dataset['Text'].apply(clean)\n"
     ]
    },
    {
     "data": {
      "text/html": [
       "<div>\n",
       "<style scoped>\n",
       "    .dataframe tbody tr th:only-of-type {\n",
       "        vertical-align: middle;\n",
       "    }\n",
       "\n",
       "    .dataframe tbody tr th {\n",
       "        vertical-align: top;\n",
       "    }\n",
       "\n",
       "    .dataframe thead th {\n",
       "        text-align: right;\n",
       "    }\n",
       "</style>\n",
       "<table border=\"1\" class=\"dataframe\">\n",
       "  <thead>\n",
       "    <tr style=\"text-align: right;\">\n",
       "      <th></th>\n",
       "      <th>Text</th>\n",
       "      <th>Cleaned Posts</th>\n",
       "    </tr>\n",
       "  </thead>\n",
       "  <tbody>\n",
       "    <tr>\n",
       "      <th>0</th>\n",
       "      <td>Ex Wife Threatening SuicideRecently I left my ...</td>\n",
       "      <td>Ex Wife Threatening SuicideRecently I left my ...</td>\n",
       "    </tr>\n",
       "    <tr>\n",
       "      <th>1</th>\n",
       "      <td>i need helpjust help me im crying so hard</td>\n",
       "      <td>i need helpjust help me im crying so hard</td>\n",
       "    </tr>\n",
       "    <tr>\n",
       "      <th>2</th>\n",
       "      <td>Honetly idkI dont know what im even doing here...</td>\n",
       "      <td>Honetly idkI dont know what im even doing here...</td>\n",
       "    </tr>\n",
       "    <tr>\n",
       "      <th>3</th>\n",
       "      <td>My life is over at 20 years oldHello all. I am...</td>\n",
       "      <td>My life is over at years oldHello all I am a y...</td>\n",
       "    </tr>\n",
       "    <tr>\n",
       "      <th>4</th>\n",
       "      <td>Can you imagine getting old? Me neither.Wrinkl...</td>\n",
       "      <td>Can you imagine getting old Me neither Wrinkle...</td>\n",
       "    </tr>\n",
       "  </tbody>\n",
       "</table>\n",
       "</div>"
      ],
      "text/plain": [
       "                                                Text  \\\n",
       "0  Ex Wife Threatening SuicideRecently I left my ...   \n",
       "1          i need helpjust help me im crying so hard   \n",
       "2  Honetly idkI dont know what im even doing here...   \n",
       "3  My life is over at 20 years oldHello all. I am...   \n",
       "4  Can you imagine getting old? Me neither.Wrinkl...   \n",
       "\n",
       "                                       Cleaned Posts  \n",
       "0  Ex Wife Threatening SuicideRecently I left my ...  \n",
       "1          i need helpjust help me im crying so hard  \n",
       "2  Honetly idkI dont know what im even doing here...  \n",
       "3  My life is over at years oldHello all I am a y...  \n",
       "4  Can you imagine getting old Me neither Wrinkle...  "
      ]
     },
     "execution_count": 5,
     "metadata": {},
     "output_type": "execute_result"
    }
   ],
   "source": [
    "import re\n",
    "\n",
    "# Define a function to clean the text\n",
    "def clean(text):\n",
    "    # Removes all special characters and numericals leaving the alphabets\n",
    "    text = re.sub('[^A-Za-z]+', ' ', text) \n",
    "    return text\n",
    "\n",
    "# Cleaning the text in the review column\n",
    "dataset['Cleaned Posts'] = dataset['Text'].apply(clean)\n",
    "dataset.head()"
   ]
  },
  {
   "cell_type": "code",
   "execution_count": 6,
   "id": "3048f6f9",
   "metadata": {},
   "outputs": [
    {
     "name": "stderr",
     "output_type": "stream",
     "text": [
      "[nltk_data] Downloading package punkt to\n",
      "[nltk_data]     C:\\Users\\gueva\\AppData\\Roaming\\nltk_data...\n",
      "[nltk_data]   Package punkt is already up-to-date!\n",
      "[nltk_data] Downloading package stopwords to\n",
      "[nltk_data]     C:\\Users\\gueva\\AppData\\Roaming\\nltk_data...\n",
      "[nltk_data]   Package stopwords is already up-to-date!\n",
      "[nltk_data] Downloading package wordnet to\n",
      "[nltk_data]     C:\\Users\\gueva\\AppData\\Roaming\\nltk_data...\n",
      "[nltk_data]   Package wordnet is already up-to-date!\n",
      "[nltk_data] Downloading package averaged_perceptron_tagger to\n",
      "[nltk_data]     C:\\Users\\gueva\\AppData\\Roaming\\nltk_data...\n",
      "[nltk_data]   Package averaged_perceptron_tagger is already up-to-\n",
      "[nltk_data]       date!\n",
      "C:\\Users\\gueva\\AppData\\Local\\Temp/ipykernel_8352/3235050926.py:22: SettingWithCopyWarning: \n",
      "A value is trying to be set on a copy of a slice from a DataFrame.\n",
      "Try using .loc[row_indexer,col_indexer] = value instead\n",
      "\n",
      "See the caveats in the documentation: https://pandas.pydata.org/pandas-docs/stable/user_guide/indexing.html#returning-a-view-versus-a-copy\n",
      "  dataset['POS tagged'] = dataset['Cleaned Posts'].apply(token_stop_pos)\n"
     ]
    },
    {
     "data": {
      "text/html": [
       "<div>\n",
       "<style scoped>\n",
       "    .dataframe tbody tr th:only-of-type {\n",
       "        vertical-align: middle;\n",
       "    }\n",
       "\n",
       "    .dataframe tbody tr th {\n",
       "        vertical-align: top;\n",
       "    }\n",
       "\n",
       "    .dataframe thead th {\n",
       "        text-align: right;\n",
       "    }\n",
       "</style>\n",
       "<table border=\"1\" class=\"dataframe\">\n",
       "  <thead>\n",
       "    <tr style=\"text-align: right;\">\n",
       "      <th></th>\n",
       "      <th>Text</th>\n",
       "      <th>Cleaned Posts</th>\n",
       "      <th>POS tagged</th>\n",
       "    </tr>\n",
       "  </thead>\n",
       "  <tbody>\n",
       "    <tr>\n",
       "      <th>0</th>\n",
       "      <td>Ex Wife Threatening SuicideRecently I left my ...</td>\n",
       "      <td>Ex Wife Threatening SuicideRecently I left my ...</td>\n",
       "      <td>[(Ex, n), (Wife, n), (Threatening, n), (Suicid...</td>\n",
       "    </tr>\n",
       "    <tr>\n",
       "      <th>1</th>\n",
       "      <td>i need helpjust help me im crying so hard</td>\n",
       "      <td>i need helpjust help me im crying so hard</td>\n",
       "      <td>[(need, v), (helpjust, n), (help, v), (im, v),...</td>\n",
       "    </tr>\n",
       "    <tr>\n",
       "      <th>2</th>\n",
       "      <td>Honetly idkI dont know what im even doing here...</td>\n",
       "      <td>Honetly idkI dont know what im even doing here...</td>\n",
       "      <td>[(Honetly, r), (idkI, a), (dont, n), (know, v)...</td>\n",
       "    </tr>\n",
       "    <tr>\n",
       "      <th>3</th>\n",
       "      <td>My life is over at 20 years oldHello all. I am...</td>\n",
       "      <td>My life is over at years oldHello all I am a y...</td>\n",
       "      <td>[(life, n), (years, n), (oldHello, None), (yea...</td>\n",
       "    </tr>\n",
       "    <tr>\n",
       "      <th>4</th>\n",
       "      <td>Can you imagine getting old? Me neither.Wrinkl...</td>\n",
       "      <td>Can you imagine getting old Me neither Wrinkle...</td>\n",
       "      <td>[(imagine, v), (getting, v), (old, a), (neithe...</td>\n",
       "    </tr>\n",
       "  </tbody>\n",
       "</table>\n",
       "</div>"
      ],
      "text/plain": [
       "                                                Text  \\\n",
       "0  Ex Wife Threatening SuicideRecently I left my ...   \n",
       "1          i need helpjust help me im crying so hard   \n",
       "2  Honetly idkI dont know what im even doing here...   \n",
       "3  My life is over at 20 years oldHello all. I am...   \n",
       "4  Can you imagine getting old? Me neither.Wrinkl...   \n",
       "\n",
       "                                       Cleaned Posts  \\\n",
       "0  Ex Wife Threatening SuicideRecently I left my ...   \n",
       "1          i need helpjust help me im crying so hard   \n",
       "2  Honetly idkI dont know what im even doing here...   \n",
       "3  My life is over at years oldHello all I am a y...   \n",
       "4  Can you imagine getting old Me neither Wrinkle...   \n",
       "\n",
       "                                          POS tagged  \n",
       "0  [(Ex, n), (Wife, n), (Threatening, n), (Suicid...  \n",
       "1  [(need, v), (helpjust, n), (help, v), (im, v),...  \n",
       "2  [(Honetly, r), (idkI, a), (dont, n), (know, v)...  \n",
       "3  [(life, n), (years, n), (oldHello, None), (yea...  \n",
       "4  [(imagine, v), (getting, v), (old, a), (neithe...  "
      ]
     },
     "execution_count": 6,
     "metadata": {},
     "output_type": "execute_result"
    }
   ],
   "source": [
    "import nltk\n",
    "nltk.download('punkt')\n",
    "from nltk.tokenize import word_tokenize\n",
    "from nltk import pos_tag\n",
    "nltk.download('stopwords')\n",
    "from nltk.corpus import stopwords\n",
    "nltk.download('wordnet')\n",
    "from nltk.corpus import wordnet\n",
    "nltk.download('averaged_perceptron_tagger')\n",
    "\n",
    "# POS tagger dictionary\n",
    "pos_dict = {'J':wordnet.ADJ, 'V':wordnet.VERB, 'N':wordnet.NOUN, 'R':wordnet.ADV}\n",
    "\n",
    "def token_stop_pos(Text):\n",
    "    tags = pos_tag(word_tokenize(Text))\n",
    "    newlist = []\n",
    "    for word, tag in tags:\n",
    "        if word.lower() not in set(stopwords.words('english')):\n",
    "            newlist.append(tuple([word, pos_dict.get(tag[0])]))\n",
    "    return newlist\n",
    "\n",
    "dataset['POS tagged'] = dataset['Cleaned Posts'].apply(token_stop_pos)\n",
    "dataset.head()"
   ]
  },
  {
   "cell_type": "code",
   "execution_count": 7,
   "id": "593f5d91",
   "metadata": {},
   "outputs": [
    {
     "name": "stderr",
     "output_type": "stream",
     "text": [
      "C:\\Users\\gueva\\AppData\\Local\\Temp/ipykernel_8352/3337248100.py:14: SettingWithCopyWarning: \n",
      "A value is trying to be set on a copy of a slice from a DataFrame.\n",
      "Try using .loc[row_indexer,col_indexer] = value instead\n",
      "\n",
      "See the caveats in the documentation: https://pandas.pydata.org/pandas-docs/stable/user_guide/indexing.html#returning-a-view-versus-a-copy\n",
      "  dataset['Lemma'] = dataset['POS tagged'].apply(lemmatize)\n"
     ]
    },
    {
     "data": {
      "text/html": [
       "<div>\n",
       "<style scoped>\n",
       "    .dataframe tbody tr th:only-of-type {\n",
       "        vertical-align: middle;\n",
       "    }\n",
       "\n",
       "    .dataframe tbody tr th {\n",
       "        vertical-align: top;\n",
       "    }\n",
       "\n",
       "    .dataframe thead th {\n",
       "        text-align: right;\n",
       "    }\n",
       "</style>\n",
       "<table border=\"1\" class=\"dataframe\">\n",
       "  <thead>\n",
       "    <tr style=\"text-align: right;\">\n",
       "      <th></th>\n",
       "      <th>Text</th>\n",
       "      <th>Cleaned Posts</th>\n",
       "      <th>POS tagged</th>\n",
       "      <th>Lemma</th>\n",
       "    </tr>\n",
       "  </thead>\n",
       "  <tbody>\n",
       "    <tr>\n",
       "      <th>0</th>\n",
       "      <td>Ex Wife Threatening SuicideRecently I left my ...</td>\n",
       "      <td>Ex Wife Threatening SuicideRecently I left my ...</td>\n",
       "      <td>[(Ex, n), (Wife, n), (Threatening, n), (Suicid...</td>\n",
       "      <td>Ex Wife Threatening SuicideRecently leave wi...</td>\n",
       "    </tr>\n",
       "    <tr>\n",
       "      <th>1</th>\n",
       "      <td>i need helpjust help me im crying so hard</td>\n",
       "      <td>i need helpjust help me im crying so hard</td>\n",
       "      <td>[(need, v), (helpjust, n), (help, v), (im, v),...</td>\n",
       "      <td>need helpjust help im cry hard</td>\n",
       "    </tr>\n",
       "    <tr>\n",
       "      <th>2</th>\n",
       "      <td>Honetly idkI dont know what im even doing here...</td>\n",
       "      <td>Honetly idkI dont know what im even doing here...</td>\n",
       "      <td>[(Honetly, r), (idkI, a), (dont, n), (know, v)...</td>\n",
       "      <td>Honetly idkI dont know im even feel like not...</td>\n",
       "    </tr>\n",
       "    <tr>\n",
       "      <th>3</th>\n",
       "      <td>My life is over at 20 years oldHello all. I am...</td>\n",
       "      <td>My life is over at years oldHello all I am a y...</td>\n",
       "      <td>[(life, n), (years, n), (oldHello, None), (yea...</td>\n",
       "      <td>life year oldHello year old balding male hai...</td>\n",
       "    </tr>\n",
       "    <tr>\n",
       "      <th>4</th>\n",
       "      <td>Can you imagine getting old? Me neither.Wrinkl...</td>\n",
       "      <td>Can you imagine getting old Me neither Wrinkle...</td>\n",
       "      <td>[(imagine, v), (getting, v), (old, a), (neithe...</td>\n",
       "      <td>imagine get old neither Wrinkles weight gain...</td>\n",
       "    </tr>\n",
       "  </tbody>\n",
       "</table>\n",
       "</div>"
      ],
      "text/plain": [
       "                                                Text  \\\n",
       "0  Ex Wife Threatening SuicideRecently I left my ...   \n",
       "1          i need helpjust help me im crying so hard   \n",
       "2  Honetly idkI dont know what im even doing here...   \n",
       "3  My life is over at 20 years oldHello all. I am...   \n",
       "4  Can you imagine getting old? Me neither.Wrinkl...   \n",
       "\n",
       "                                       Cleaned Posts  \\\n",
       "0  Ex Wife Threatening SuicideRecently I left my ...   \n",
       "1          i need helpjust help me im crying so hard   \n",
       "2  Honetly idkI dont know what im even doing here...   \n",
       "3  My life is over at years oldHello all I am a y...   \n",
       "4  Can you imagine getting old Me neither Wrinkle...   \n",
       "\n",
       "                                          POS tagged  \\\n",
       "0  [(Ex, n), (Wife, n), (Threatening, n), (Suicid...   \n",
       "1  [(need, v), (helpjust, n), (help, v), (im, v),...   \n",
       "2  [(Honetly, r), (idkI, a), (dont, n), (know, v)...   \n",
       "3  [(life, n), (years, n), (oldHello, None), (yea...   \n",
       "4  [(imagine, v), (getting, v), (old, a), (neithe...   \n",
       "\n",
       "                                               Lemma  \n",
       "0    Ex Wife Threatening SuicideRecently leave wi...  \n",
       "1                     need helpjust help im cry hard  \n",
       "2    Honetly idkI dont know im even feel like not...  \n",
       "3    life year oldHello year old balding male hai...  \n",
       "4    imagine get old neither Wrinkles weight gain...  "
      ]
     },
     "execution_count": 7,
     "metadata": {},
     "output_type": "execute_result"
    }
   ],
   "source": [
    "wordnet_lemmatizer = WordNetLemmatizer()\n",
    "\n",
    "def lemmatize(pos_data):\n",
    "    lemma_rew = \" \"\n",
    "    for word, pos in pos_data:\n",
    "        if not pos: \n",
    "            lemma = word\n",
    "            lemma_rew = lemma_rew + \" \" + lemma\n",
    "        else:  \n",
    "            lemma = wordnet_lemmatizer.lemmatize(word, pos=pos)\n",
    "            lemma_rew = lemma_rew + \" \" + lemma\n",
    "    return lemma_rew\n",
    "    \n",
    "dataset['Lemma'] = dataset['POS tagged'].apply(lemmatize)\n",
    "dataset.head()"
   ]
  },
  {
   "cell_type": "code",
   "execution_count": 8,
   "id": "9ff55dc2",
   "metadata": {},
   "outputs": [
    {
     "data": {
      "text/html": [
       "<div>\n",
       "<style scoped>\n",
       "    .dataframe tbody tr th:only-of-type {\n",
       "        vertical-align: middle;\n",
       "    }\n",
       "\n",
       "    .dataframe tbody tr th {\n",
       "        vertical-align: top;\n",
       "    }\n",
       "\n",
       "    .dataframe thead th {\n",
       "        text-align: right;\n",
       "    }\n",
       "</style>\n",
       "<table border=\"1\" class=\"dataframe\">\n",
       "  <thead>\n",
       "    <tr style=\"text-align: right;\">\n",
       "      <th></th>\n",
       "      <th>Text</th>\n",
       "      <th>Lemma</th>\n",
       "    </tr>\n",
       "  </thead>\n",
       "  <tbody>\n",
       "    <tr>\n",
       "      <th>0</th>\n",
       "      <td>Ex Wife Threatening SuicideRecently I left my ...</td>\n",
       "      <td>Ex Wife Threatening SuicideRecently leave wi...</td>\n",
       "    </tr>\n",
       "    <tr>\n",
       "      <th>1</th>\n",
       "      <td>i need helpjust help me im crying so hard</td>\n",
       "      <td>need helpjust help im cry hard</td>\n",
       "    </tr>\n",
       "    <tr>\n",
       "      <th>2</th>\n",
       "      <td>Honetly idkI dont know what im even doing here...</td>\n",
       "      <td>Honetly idkI dont know im even feel like not...</td>\n",
       "    </tr>\n",
       "    <tr>\n",
       "      <th>3</th>\n",
       "      <td>My life is over at 20 years oldHello all. I am...</td>\n",
       "      <td>life year oldHello year old balding male hai...</td>\n",
       "    </tr>\n",
       "    <tr>\n",
       "      <th>4</th>\n",
       "      <td>Can you imagine getting old? Me neither.Wrinkl...</td>\n",
       "      <td>imagine get old neither Wrinkles weight gain...</td>\n",
       "    </tr>\n",
       "    <tr>\n",
       "      <th>...</th>\n",
       "      <td>...</td>\n",
       "      <td>...</td>\n",
       "    </tr>\n",
       "    <tr>\n",
       "      <th>509</th>\n",
       "      <td>I know what is after life and I want itI had a...</td>\n",
       "      <td>know life want itI NDE ATV accident remember...</td>\n",
       "    </tr>\n",
       "    <tr>\n",
       "      <th>510</th>\n",
       "      <td>The only reason I have not killed myself is be...</td>\n",
       "      <td>reason kill want selfish really want past ye...</td>\n",
       "    </tr>\n",
       "    <tr>\n",
       "      <th>511</th>\n",
       "      <td>Life is funny.You'll go through life. You'll f...</td>\n",
       "      <td>Life funny go life find happiness disappoint...</td>\n",
       "    </tr>\n",
       "    <tr>\n",
       "      <th>512</th>\n",
       "      <td>i'm losing all hope. it's not getting better. ...</td>\n",
       "      <td>lose hope get well quarantine ruin life frie...</td>\n",
       "    </tr>\n",
       "    <tr>\n",
       "      <th>513</th>\n",
       "      <td>I Survived but...after several tries, i came t...</td>\n",
       "      <td>Survived several try come close ever OD shit...</td>\n",
       "    </tr>\n",
       "  </tbody>\n",
       "</table>\n",
       "<p>514 rows × 2 columns</p>\n",
       "</div>"
      ],
      "text/plain": [
       "                                                  Text  \\\n",
       "0    Ex Wife Threatening SuicideRecently I left my ...   \n",
       "1            i need helpjust help me im crying so hard   \n",
       "2    Honetly idkI dont know what im even doing here...   \n",
       "3    My life is over at 20 years oldHello all. I am...   \n",
       "4    Can you imagine getting old? Me neither.Wrinkl...   \n",
       "..                                                 ...   \n",
       "509  I know what is after life and I want itI had a...   \n",
       "510  The only reason I have not killed myself is be...   \n",
       "511  Life is funny.You'll go through life. You'll f...   \n",
       "512  i'm losing all hope. it's not getting better. ...   \n",
       "513  I Survived but...after several tries, i came t...   \n",
       "\n",
       "                                                 Lemma  \n",
       "0      Ex Wife Threatening SuicideRecently leave wi...  \n",
       "1                       need helpjust help im cry hard  \n",
       "2      Honetly idkI dont know im even feel like not...  \n",
       "3      life year oldHello year old balding male hai...  \n",
       "4      imagine get old neither Wrinkles weight gain...  \n",
       "..                                                 ...  \n",
       "509    know life want itI NDE ATV accident remember...  \n",
       "510    reason kill want selfish really want past ye...  \n",
       "511    Life funny go life find happiness disappoint...  \n",
       "512    lose hope get well quarantine ruin life frie...  \n",
       "513    Survived several try come close ever OD shit...  \n",
       "\n",
       "[514 rows x 2 columns]"
      ]
     },
     "execution_count": 8,
     "metadata": {},
     "output_type": "execute_result"
    }
   ],
   "source": [
    "dataset[['Text', 'Lemma']]"
   ]
  },
  {
   "cell_type": "markdown",
   "id": "7be2d419",
   "metadata": {},
   "source": [
    "### Análisis de sentimiento usando TextBlob"
   ]
  },
  {
   "cell_type": "code",
   "execution_count": 9,
   "id": "a81e5f88",
   "metadata": {},
   "outputs": [
    {
     "name": "stdout",
     "output_type": "stream",
     "text": [
      "Requirement already satisfied: textblob in c:\\users\\gueva\\anaconda3\\lib\\site-packages (0.17.1)\n",
      "Requirement already satisfied: nltk>=3.1 in c:\\users\\gueva\\anaconda3\\lib\\site-packages (from textblob) (3.6.5)\n",
      "Requirement already satisfied: click in c:\\users\\gueva\\anaconda3\\lib\\site-packages (from nltk>=3.1->textblob) (8.0.3)\n",
      "Requirement already satisfied: joblib in c:\\users\\gueva\\anaconda3\\lib\\site-packages (from nltk>=3.1->textblob) (1.1.0)\n",
      "Requirement already satisfied: regex>=2021.8.3 in c:\\users\\gueva\\anaconda3\\lib\\site-packages (from nltk>=3.1->textblob) (2021.8.3)\n",
      "Requirement already satisfied: tqdm in c:\\users\\gueva\\anaconda3\\lib\\site-packages (from nltk>=3.1->textblob) (4.62.3)\n",
      "Requirement already satisfied: colorama in c:\\users\\gueva\\anaconda3\\lib\\site-packages (from click->nltk>=3.1->textblob) (0.4.4)\n"
     ]
    }
   ],
   "source": [
    "!pip install textblob\n",
    "from textblob import TextBlob\n",
    "\n",
    "# function to calculate subjectivity \n",
    "def getSubjectivity(review):\n",
    "    return TextBlob(review).sentiment.subjectivity\n",
    "\n",
    "# function to calculate polarity\n",
    "def getPolarity(review):\n",
    "    return TextBlob(review).sentiment.polarity\n",
    "\n",
    "# function to analyze the reviews\n",
    "def analysis(score):\n",
    "    if score < 0:\n",
    "        return 'Negative'\n",
    "    elif score == 0:\n",
    "        return 'Neutral'\n",
    "    else:\n",
    "        return 'Positive'"
   ]
  },
  {
   "cell_type": "code",
   "execution_count": 10,
   "id": "e7b43b7d",
   "metadata": {},
   "outputs": [],
   "source": [
    "fin_data = pd.DataFrame(dataset[['Text', 'Lemma']])"
   ]
  },
  {
   "cell_type": "code",
   "execution_count": 11,
   "id": "911e884f",
   "metadata": {},
   "outputs": [
    {
     "data": {
      "text/html": [
       "<div>\n",
       "<style scoped>\n",
       "    .dataframe tbody tr th:only-of-type {\n",
       "        vertical-align: middle;\n",
       "    }\n",
       "\n",
       "    .dataframe tbody tr th {\n",
       "        vertical-align: top;\n",
       "    }\n",
       "\n",
       "    .dataframe thead th {\n",
       "        text-align: right;\n",
       "    }\n",
       "</style>\n",
       "<table border=\"1\" class=\"dataframe\">\n",
       "  <thead>\n",
       "    <tr style=\"text-align: right;\">\n",
       "      <th></th>\n",
       "      <th>Text</th>\n",
       "      <th>Lemma</th>\n",
       "      <th>Polarity</th>\n",
       "      <th>Analysis</th>\n",
       "    </tr>\n",
       "  </thead>\n",
       "  <tbody>\n",
       "    <tr>\n",
       "      <th>0</th>\n",
       "      <td>Ex Wife Threatening SuicideRecently I left my ...</td>\n",
       "      <td>Ex Wife Threatening SuicideRecently leave wi...</td>\n",
       "      <td>0.144444</td>\n",
       "      <td>Positive</td>\n",
       "    </tr>\n",
       "    <tr>\n",
       "      <th>1</th>\n",
       "      <td>i need helpjust help me im crying so hard</td>\n",
       "      <td>need helpjust help im cry hard</td>\n",
       "      <td>-0.291667</td>\n",
       "      <td>Negative</td>\n",
       "    </tr>\n",
       "    <tr>\n",
       "      <th>2</th>\n",
       "      <td>Honetly idkI dont know what im even doing here...</td>\n",
       "      <td>Honetly idkI dont know im even feel like not...</td>\n",
       "      <td>-0.155042</td>\n",
       "      <td>Negative</td>\n",
       "    </tr>\n",
       "    <tr>\n",
       "      <th>3</th>\n",
       "      <td>My life is over at 20 years oldHello all. I am...</td>\n",
       "      <td>life year oldHello year old balding male hai...</td>\n",
       "      <td>-0.004563</td>\n",
       "      <td>Negative</td>\n",
       "    </tr>\n",
       "    <tr>\n",
       "      <th>4</th>\n",
       "      <td>Can you imagine getting old? Me neither.Wrinkl...</td>\n",
       "      <td>imagine get old neither Wrinkles weight gain...</td>\n",
       "      <td>-0.053864</td>\n",
       "      <td>Negative</td>\n",
       "    </tr>\n",
       "  </tbody>\n",
       "</table>\n",
       "</div>"
      ],
      "text/plain": [
       "                                                Text  \\\n",
       "0  Ex Wife Threatening SuicideRecently I left my ...   \n",
       "1          i need helpjust help me im crying so hard   \n",
       "2  Honetly idkI dont know what im even doing here...   \n",
       "3  My life is over at 20 years oldHello all. I am...   \n",
       "4  Can you imagine getting old? Me neither.Wrinkl...   \n",
       "\n",
       "                                               Lemma  Polarity  Analysis  \n",
       "0    Ex Wife Threatening SuicideRecently leave wi...  0.144444  Positive  \n",
       "1                     need helpjust help im cry hard -0.291667  Negative  \n",
       "2    Honetly idkI dont know im even feel like not... -0.155042  Negative  \n",
       "3    life year oldHello year old balding male hai... -0.004563  Negative  \n",
       "4    imagine get old neither Wrinkles weight gain... -0.053864  Negative  "
      ]
     },
     "execution_count": 11,
     "metadata": {},
     "output_type": "execute_result"
    }
   ],
   "source": [
    "#fin_data['Subjectivity'] = fin_data['Lemma'].apply(getSubjectivity) \n",
    "fin_data['Polarity'] = fin_data['Lemma'].apply(getPolarity) \n",
    "fin_data['Analysis'] = fin_data['Polarity'].apply(analysis)\n",
    "fin_data.head()"
   ]
  },
  {
   "cell_type": "code",
   "execution_count": 12,
   "id": "af272c36",
   "metadata": {},
   "outputs": [
    {
     "data": {
      "text/plain": [
       "Negative    249\n",
       "Positive    239\n",
       "Neutral      26\n",
       "Name: Analysis, dtype: int64"
      ]
     },
     "execution_count": 12,
     "metadata": {},
     "output_type": "execute_result"
    }
   ],
   "source": [
    "tb_counts = fin_data.Analysis.value_counts()\n",
    "tb_counts"
   ]
  },
  {
   "cell_type": "code",
   "execution_count": 13,
   "id": "e3d9a01b",
   "metadata": {},
   "outputs": [
    {
     "data": {
      "text/plain": [
       "([<matplotlib.patches.Wedge at 0x19ba639d460>,\n",
       "  <matplotlib.patches.Wedge at 0x19ba639da60>,\n",
       "  <matplotlib.patches.Wedge at 0x19ba63b41c0>],\n",
       " [Text(0.053764595406833066, 1.0986852908275142, 'Negative'),\n",
       "  Text(-0.2269488812840825, -1.0763336867737177, 'Positive'),\n",
       "  Text(1.3329897793361254, -0.21363110303845817, 'Neutral')],\n",
       " [Text(0.02932614294918167, 0.5992828859059168, '48.4%'),\n",
       "  Text(-0.1237902988822268, -0.5870911018765732, '46.5%'),\n",
       "  Text(0.8392898610634861, -0.13450847228347365, '5.1%')])"
      ]
     },
     "execution_count": 13,
     "metadata": {},
     "output_type": "execute_result"
    },
    {
     "data": {
      "image/png": "[encoded data removed]",
      "text/plain": [
       "<Figure size 720x504 with 1 Axes>"
      ]
     },
     "metadata": {},
     "output_type": "display_data"
    }
   ],
   "source": [
    "import matplotlib.pyplot as plt\n",
    "%matplotlib inline\n",
    "\n",
    "tb_count= fin_data.Analysis.value_counts()\n",
    "plt.figure(figsize=(10, 7))\n",
    "plt.pie(tb_counts.values, labels = tb_counts.index, explode = (0, 0, 0.25), autopct='%1.1f%%', shadow=False)"
   ]
  },
  {
   "cell_type": "markdown",
   "id": "63cb13a4",
   "metadata": {},
   "source": [
    "### Análisis de sentimiento usando VADER"
   ]
  },
  {
   "cell_type": "code",
   "execution_count": 14,
   "id": "a8c0e670",
   "metadata": {},
   "outputs": [
    {
     "name": "stdout",
     "output_type": "stream",
     "text": [
      "Requirement already satisfied: vaderSentiment in c:\\users\\gueva\\anaconda3\\lib\\site-packages (3.3.2)\n",
      "Requirement already satisfied: requests in c:\\users\\gueva\\anaconda3\\lib\\site-packages (from vaderSentiment) (2.27.1)\n",
      "Requirement already satisfied: charset-normalizer~=2.0.0 in c:\\users\\gueva\\anaconda3\\lib\\site-packages (from requests->vaderSentiment) (2.0.4)\n",
      "Requirement already satisfied: certifi>=2017.4.17 in c:\\users\\gueva\\anaconda3\\lib\\site-packages (from requests->vaderSentiment) (2021.10.8)\n",
      "Requirement already satisfied: idna<4,>=2.5 in c:\\users\\gueva\\anaconda3\\lib\\site-packages (from requests->vaderSentiment) (3.3)\n",
      "Requirement already satisfied: urllib3<1.27,>=1.21.1 in c:\\users\\gueva\\anaconda3\\lib\\site-packages (from requests->vaderSentiment) (1.26.8)\n"
     ]
    }
   ],
   "source": [
    "!pip install vaderSentiment\n",
    "from vaderSentiment.vaderSentiment import SentimentIntensityAnalyzer\n",
    "analyzer = SentimentIntensityAnalyzer()\n",
    "\n",
    "# function to calculate vader sentiment  \n",
    "def vadersentimentanalysis(post):\n",
    "    vs = analyzer.polarity_scores(post)\n",
    "    return vs['compound']\n",
    "\n",
    "fin_data['Vader Sentiment'] = fin_data['Lemma'].apply(vadersentimentanalysis)"
   ]
  },
  {
   "cell_type": "code",
   "execution_count": 23,
   "id": "01c686eb",
   "metadata": {},
   "outputs": [
    {
     "data": {
      "text/html": [
       "<div>\n",
       "<style scoped>\n",
       "    .dataframe tbody tr th:only-of-type {\n",
       "        vertical-align: middle;\n",
       "    }\n",
       "\n",
       "    .dataframe tbody tr th {\n",
       "        vertical-align: top;\n",
       "    }\n",
       "\n",
       "    .dataframe thead th {\n",
       "        text-align: right;\n",
       "    }\n",
       "</style>\n",
       "<table border=\"1\" class=\"dataframe\">\n",
       "  <thead>\n",
       "    <tr style=\"text-align: right;\">\n",
       "      <th></th>\n",
       "      <th>Text</th>\n",
       "      <th>Lemma</th>\n",
       "      <th>Polarity</th>\n",
       "      <th>Analysis</th>\n",
       "      <th>Vader Sentiment</th>\n",
       "      <th>Vader Analysis</th>\n",
       "    </tr>\n",
       "  </thead>\n",
       "  <tbody>\n",
       "    <tr>\n",
       "      <th>0</th>\n",
       "      <td>Ex Wife Threatening SuicideRecently I left my ...</td>\n",
       "      <td>Ex Wife Threatening SuicideRecently leave wi...</td>\n",
       "      <td>0.144444</td>\n",
       "      <td>Positive</td>\n",
       "      <td>-0.9521</td>\n",
       "      <td>Negative</td>\n",
       "    </tr>\n",
       "    <tr>\n",
       "      <th>1</th>\n",
       "      <td>i need helpjust help me im crying so hard</td>\n",
       "      <td>need helpjust help im cry hard</td>\n",
       "      <td>-0.291667</td>\n",
       "      <td>Negative</td>\n",
       "      <td>-0.2023</td>\n",
       "      <td>Negative</td>\n",
       "    </tr>\n",
       "    <tr>\n",
       "      <th>2</th>\n",
       "      <td>Honetly idkI dont know what im even doing here...</td>\n",
       "      <td>Honetly idkI dont know im even feel like not...</td>\n",
       "      <td>-0.155042</td>\n",
       "      <td>Negative</td>\n",
       "      <td>-0.9687</td>\n",
       "      <td>Negative</td>\n",
       "    </tr>\n",
       "    <tr>\n",
       "      <th>3</th>\n",
       "      <td>My life is over at 20 years oldHello all. I am...</td>\n",
       "      <td>life year oldHello year old balding male hai...</td>\n",
       "      <td>-0.004563</td>\n",
       "      <td>Negative</td>\n",
       "      <td>0.3104</td>\n",
       "      <td>Positive</td>\n",
       "    </tr>\n",
       "    <tr>\n",
       "      <th>4</th>\n",
       "      <td>Can you imagine getting old? Me neither.Wrinkl...</td>\n",
       "      <td>imagine get old neither Wrinkles weight gain...</td>\n",
       "      <td>-0.053864</td>\n",
       "      <td>Negative</td>\n",
       "      <td>-0.9021</td>\n",
       "      <td>Negative</td>\n",
       "    </tr>\n",
       "  </tbody>\n",
       "</table>\n",
       "</div>"
      ],
      "text/plain": [
       "                                                Text  \\\n",
       "0  Ex Wife Threatening SuicideRecently I left my ...   \n",
       "1          i need helpjust help me im crying so hard   \n",
       "2  Honetly idkI dont know what im even doing here...   \n",
       "3  My life is over at 20 years oldHello all. I am...   \n",
       "4  Can you imagine getting old? Me neither.Wrinkl...   \n",
       "\n",
       "                                               Lemma  Polarity  Analysis  \\\n",
       "0    Ex Wife Threatening SuicideRecently leave wi...  0.144444  Positive   \n",
       "1                     need helpjust help im cry hard -0.291667  Negative   \n",
       "2    Honetly idkI dont know im even feel like not... -0.155042  Negative   \n",
       "3    life year oldHello year old balding male hai... -0.004563  Negative   \n",
       "4    imagine get old neither Wrinkles weight gain... -0.053864  Negative   \n",
       "\n",
       "   Vader Sentiment Vader Analysis  \n",
       "0          -0.9521       Negative  \n",
       "1          -0.2023       Negative  \n",
       "2          -0.9687       Negative  \n",
       "3           0.3104       Positive  \n",
       "4          -0.9021       Negative  "
      ]
     },
     "execution_count": 23,
     "metadata": {},
     "output_type": "execute_result"
    }
   ],
   "source": [
    "# function to analyse \n",
    "def vader_analysis(compound):\n",
    "    if compound >= 0.1:\n",
    "        return 'Positive'\n",
    "    elif compound <= -0.1:\n",
    "        return 'Negative'\n",
    "    else:\n",
    "        return 'Neutral'\n",
    "    \n",
    "fin_data['Vader Analysis'] = fin_data['Vader Sentiment'].apply(vader_analysis)\n",
    "fin_data.head()\n"
   ]
  },
  {
   "cell_type": "code",
   "execution_count": 24,
   "id": "95d0c43d",
   "metadata": {},
   "outputs": [
    {
     "data": {
      "text/plain": [
       "Negative    335\n",
       "Positive    155\n",
       "Neutral      24\n",
       "Name: Vader Analysis, dtype: int64"
      ]
     },
     "execution_count": 24,
     "metadata": {},
     "output_type": "execute_result"
    }
   ],
   "source": [
    "vader_counts = fin_data['Vader Analysis'].value_counts()\n",
    "vader_counts"
   ]
  },
  {
   "cell_type": "code",
   "execution_count": 26,
   "id": "9060ea5d",
   "metadata": {},
   "outputs": [
    {
     "data": {
      "text/plain": [
       "([<matplotlib.patches.Wedge at 0x19ba642c3d0>,\n",
       "  <matplotlib.patches.Wedge at 0x19ba642caf0>,\n",
       "  <matplotlib.patches.Wedge at 0x19ba643a250>],\n",
       " [Text(-0.5047734105978062, 0.9773452838958495, 'Negative'),\n",
       "  Text(0.3564999976289156, -1.0406285368423178, 'Positive'),\n",
       "  Text(1.3355015694341332, -0.19732095184994264, 'Neutral')],\n",
       " [Text(-0.275330951235167, 0.5330974275795543, '65.2%'),\n",
       "  Text(0.19445454416122668, -0.5676155655503551, '30.2%'),\n",
       "  Text(0.8408713585326023, -0.12423911783144535, '4.7%')])"
      ]
     },
     "execution_count": 26,
     "metadata": {},
     "output_type": "execute_result"
    },
    {
     "data": {
      "image/png": "[encoded data removed]",
      "text/plain": [
       "<Figure size 720x504 with 1 Axes>"
      ]
     },
     "metadata": {},
     "output_type": "display_data"
    }
   ],
   "source": [
    "vader_counts= fin_data['Vader Analysis'].value_counts()\n",
    "plt.figure(figsize=(10, 7))\n",
    "plt.pie(vader_counts.values, labels = vader_counts.index, explode = (0, 0, .25), autopct='%1.1f%%', shadow=False)\n",
    "# plt.legend()"
   ]
  },
  {
   "cell_type": "markdown",
   "id": "e5f1471b",
   "metadata": {},
   "source": [
    "### Análisis de sentimiento usando SentiWordNet"
   ]
  },
  {
   "cell_type": "code",
   "execution_count": 27,
   "id": "2386f741",
   "metadata": {},
   "outputs": [
    {
     "name": "stderr",
     "output_type": "stream",
     "text": [
      "[nltk_data] Downloading package sentiwordnet to\n",
      "[nltk_data]     C:\\Users\\gueva\\AppData\\Roaming\\nltk_data...\n",
      "[nltk_data]   Package sentiwordnet is already up-to-date!\n"
     ]
    },
    {
     "data": {
      "text/html": [
       "<div>\n",
       "<style scoped>\n",
       "    .dataframe tbody tr th:only-of-type {\n",
       "        vertical-align: middle;\n",
       "    }\n",
       "\n",
       "    .dataframe tbody tr th {\n",
       "        vertical-align: top;\n",
       "    }\n",
       "\n",
       "    .dataframe thead th {\n",
       "        text-align: right;\n",
       "    }\n",
       "</style>\n",
       "<table border=\"1\" class=\"dataframe\">\n",
       "  <thead>\n",
       "    <tr style=\"text-align: right;\">\n",
       "      <th></th>\n",
       "      <th>Text</th>\n",
       "      <th>Lemma</th>\n",
       "      <th>Polarity</th>\n",
       "      <th>Analysis</th>\n",
       "      <th>Vader Sentiment</th>\n",
       "      <th>Vader Analysis</th>\n",
       "      <th>SWN analysis</th>\n",
       "    </tr>\n",
       "  </thead>\n",
       "  <tbody>\n",
       "    <tr>\n",
       "      <th>0</th>\n",
       "      <td>Ex Wife Threatening SuicideRecently I left my ...</td>\n",
       "      <td>Ex Wife Threatening SuicideRecently leave wi...</td>\n",
       "      <td>0.144444</td>\n",
       "      <td>Positive</td>\n",
       "      <td>-0.9521</td>\n",
       "      <td>Negative</td>\n",
       "      <td>Positive</td>\n",
       "    </tr>\n",
       "    <tr>\n",
       "      <th>1</th>\n",
       "      <td>i need helpjust help me im crying so hard</td>\n",
       "      <td>need helpjust help im cry hard</td>\n",
       "      <td>-0.291667</td>\n",
       "      <td>Negative</td>\n",
       "      <td>-0.2023</td>\n",
       "      <td>Negative</td>\n",
       "      <td>Negative</td>\n",
       "    </tr>\n",
       "    <tr>\n",
       "      <th>2</th>\n",
       "      <td>Honetly idkI dont know what im even doing here...</td>\n",
       "      <td>Honetly idkI dont know im even feel like not...</td>\n",
       "      <td>-0.155042</td>\n",
       "      <td>Negative</td>\n",
       "      <td>-0.9687</td>\n",
       "      <td>Negative</td>\n",
       "      <td>Negative</td>\n",
       "    </tr>\n",
       "    <tr>\n",
       "      <th>3</th>\n",
       "      <td>My life is over at 20 years oldHello all. I am...</td>\n",
       "      <td>life year oldHello year old balding male hai...</td>\n",
       "      <td>-0.004563</td>\n",
       "      <td>Negative</td>\n",
       "      <td>0.3104</td>\n",
       "      <td>Positive</td>\n",
       "      <td>Negative</td>\n",
       "    </tr>\n",
       "    <tr>\n",
       "      <th>4</th>\n",
       "      <td>Can you imagine getting old? Me neither.Wrinkl...</td>\n",
       "      <td>imagine get old neither Wrinkles weight gain...</td>\n",
       "      <td>-0.053864</td>\n",
       "      <td>Negative</td>\n",
       "      <td>-0.9021</td>\n",
       "      <td>Negative</td>\n",
       "      <td>Positive</td>\n",
       "    </tr>\n",
       "  </tbody>\n",
       "</table>\n",
       "</div>"
      ],
      "text/plain": [
       "                                                Text  \\\n",
       "0  Ex Wife Threatening SuicideRecently I left my ...   \n",
       "1          i need helpjust help me im crying so hard   \n",
       "2  Honetly idkI dont know what im even doing here...   \n",
       "3  My life is over at 20 years oldHello all. I am...   \n",
       "4  Can you imagine getting old? Me neither.Wrinkl...   \n",
       "\n",
       "                                               Lemma  Polarity  Analysis  \\\n",
       "0    Ex Wife Threatening SuicideRecently leave wi...  0.144444  Positive   \n",
       "1                     need helpjust help im cry hard -0.291667  Negative   \n",
       "2    Honetly idkI dont know im even feel like not... -0.155042  Negative   \n",
       "3    life year oldHello year old balding male hai... -0.004563  Negative   \n",
       "4    imagine get old neither Wrinkles weight gain... -0.053864  Negative   \n",
       "\n",
       "   Vader Sentiment Vader Analysis SWN analysis  \n",
       "0          -0.9521       Negative     Positive  \n",
       "1          -0.2023       Negative     Negative  \n",
       "2          -0.9687       Negative     Negative  \n",
       "3           0.3104       Positive     Negative  \n",
       "4          -0.9021       Negative     Positive  "
      ]
     },
     "execution_count": 27,
     "metadata": {},
     "output_type": "execute_result"
    }
   ],
   "source": [
    "nltk.download('sentiwordnet')\n",
    "from nltk.corpus import sentiwordnet as swn\n",
    "\n",
    "def sentiwordnetanalysis(pos_data):\n",
    "    sentiment = 0\n",
    "    tokens_count = 0\n",
    "    for word, pos in pos_data:\n",
    "        if not pos:\n",
    "            continue\n",
    "        lemma = wordnet_lemmatizer.lemmatize(word, pos=pos)\n",
    "        if not lemma:\n",
    "            continue\n",
    "        \n",
    "        synsets = wordnet.synsets(lemma, pos=pos)\n",
    "        if not synsets:\n",
    "            continue\n",
    "\n",
    "        # Take the first sense, the most common\n",
    "        synset = synsets[0]\n",
    "        swn_synset = swn.senti_synset(synset.name())\n",
    "        sentiment += swn_synset.pos_score() - swn_synset.neg_score()\n",
    "        tokens_count += 1\n",
    "        # print(swn_synset.pos_score(),swn_synset.neg_score(),swn_synset.obj_score())\n",
    "    if not tokens_count:\n",
    "        return 0\n",
    "    if sentiment>0:\n",
    "        return \"Positive\"\n",
    "    if sentiment==0:\n",
    "        return \"Neutral\"\n",
    "    else:\n",
    "        return \"Negative\"\n",
    "\n",
    "fin_data['SWN analysis'] = dataset['POS tagged'].apply(sentiwordnetanalysis)\n",
    "fin_data.head()"
   ]
  },
  {
   "cell_type": "code",
   "execution_count": 28,
   "id": "29890305",
   "metadata": {},
   "outputs": [
    {
     "data": {
      "text/plain": [
       "Negative    240\n",
       "Positive    239\n",
       "Neutral      34\n",
       "0             1\n",
       "Name: SWN analysis, dtype: int64"
      ]
     },
     "execution_count": 28,
     "metadata": {},
     "output_type": "execute_result"
    }
   ],
   "source": [
    "swn_counts= fin_data['SWN analysis'].value_counts()\n",
    "swn_counts"
   ]
  },
  {
   "cell_type": "code",
   "execution_count": 31,
   "id": "5495b54f",
   "metadata": {},
   "outputs": [
    {
     "data": {
      "text/plain": [
       "([<matplotlib.patches.Wedge at 0x19bac0e46a0>,\n",
       "  <matplotlib.patches.Wedge at 0x19bac0e4ca0>,\n",
       "  <matplotlib.patches.Wedge at 0x19bac0f1400>,\n",
       "  <matplotlib.patches.Wedge at 0x19bac0f1b50>],\n",
       " [Text(0.1140897553440065, 1.0940674237566645, 'Negative'),\n",
       "  Text(-0.3437529353099678, -1.04490856990733, 'Positive'),\n",
       "  Text(1.3174516088598287, -0.29465447275181356, 'Neutral'),\n",
       "  Text(1.0999794533226432, -0.006723263197220363, '0')],\n",
       " [Text(0.06223077564218536, 0.5967640493218169, '46.7%'),\n",
       "  Text(-0.18750160107816424, -0.5699501290403617, '46.5%'),\n",
       "  Text(0.8295065685413736, -0.18552318654743818, '6.6%'),\n",
       "  Text(0.5999887927214417, -0.0036672344712111063, '0.2%')])"
      ]
     },
     "execution_count": 31,
     "metadata": {},
     "output_type": "execute_result"
    },
    {
     "data": {
      "image/png": "[encoded data removed]",
      "text/plain": [
       "<Figure size 720x504 with 1 Axes>"
      ]
     },
     "metadata": {},
     "output_type": "display_data"
    }
   ],
   "source": [
    "swn_counts= fin_data['SWN analysis'].value_counts()\n",
    "plt.figure(figsize=(10, 7))\n",
    "plt.pie(swn_counts.values, labels = swn_counts.index, explode = (0, 0, 0.25,0), autopct='%1.1f%%', shadow=False)"
   ]
  },
  {
   "cell_type": "code",
   "execution_count": 30,
   "id": "87b6119e",
   "metadata": {},
   "outputs": [
    {
     "data": {
      "text/plain": [
       "([<matplotlib.patches.Wedge at 0x19bac087610>,\n",
       "  <matplotlib.patches.Wedge at 0x19bac087d90>,\n",
       "  <matplotlib.patches.Wedge at 0x19bac0964f0>,\n",
       "  <matplotlib.patches.Wedge at 0x19bac096c10>],\n",
       " [Text(0.1140897553440065, 1.0940674237566645, 'Negative'),\n",
       "  Text(-0.3437529353099678, -1.04490856990733, 'Positive'),\n",
       "  Text(1.3174516088598287, -0.29465447275181356, 'Neutral'),\n",
       "  Text(1.0999794533226432, -0.006723263197220363, '0')],\n",
       " [Text(0.06223077564218536, 0.5967640493218169, '46.7%'),\n",
       "  Text(-0.18750160107816424, -0.5699501290403617, '46.5%'),\n",
       "  Text(0.8295065685413736, -0.18552318654743818, '6.6%'),\n",
       "  Text(0.5999887927214417, -0.0036672344712111063, '0.2%')])"
      ]
     },
     "execution_count": 30,
     "metadata": {},
     "output_type": "execute_result"
    },
    {
     "data": {
      "image/png": "[encoded data removed]",
      "text/plain": [
       "<Figure size 1080x504 with 3 Axes>"
      ]
     },
     "metadata": {},
     "output_type": "display_data"
    }
   ],
   "source": [
    "import matplotlib.pyplot as plt\n",
    "%matplotlib inline\n",
    "\n",
    "plt.figure(figsize=(15,7))\n",
    "plt.subplot(1,3,1)\n",
    "plt.title(\"TextBlob results\")\n",
    "plt.pie(tb_counts.values, labels = tb_counts.index, explode = (0, 0, 0.25), autopct='%1.1f%%', shadow=False)\n",
    "plt.subplot(1,3,2)\n",
    "plt.title(\"VADER results\")\n",
    "plt.pie(vader_counts.values, labels = vader_counts.index, explode = (0, 0, 0.25), autopct='%1.1f%%', shadow=False)\n",
    "plt.subplot(1,3,3)\n",
    "plt.title(\"SentiWordNet results\")\n",
    "plt.pie(swn_counts.values, labels = swn_counts.index, explode = (0, 0, 0.25,0), autopct='%1.1f%%', shadow=False)"
   ]
  },
  {
   "cell_type": "code",
   "execution_count": null,
   "id": "31dd08bb",
   "metadata": {},
   "outputs": [],
   "source": []
  }
 ],
 "metadata": {
  "kernelspec": {
   "display_name": "Python 3 (ipykernel)",
   "language": "python",
   "name": "python3"
  },
  "language_info": {
   "codemirror_mode": {
    "name": "ipython",
    "version": 3
   },
   "file_extension": ".py",
   "mimetype": "text/x-python",
   "name": "python",
   "nbconvert_exporter": "python",
   "pygments_lexer": "ipython3",
   "version": "3.8.8"
  }
 },
 "nbformat": 4,
 "nbformat_minor": 5
}
